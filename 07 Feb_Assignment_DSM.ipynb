{
 "cells": [
  {
   "cell_type": "code",
   "execution_count": 3,
   "id": "d83a7630-735a-44f2-95ac-a5ac16a2bfaf",
   "metadata": {},
   "outputs": [],
   "source": [
    "# Q-1\n",
    "\n",
    "# You are writing code for a company. The requirement of the company is that you create a python function that will check whether the password entered by the user is correct or not. The function should take the password as input and return the string “Valid Password” if the entered password follows the below-given password guidelines else it should return “Invalid Password”.\n",
    "\n",
    "# Note: 1. The Password should contain at least two uppercase letters and at least two lowercase letters.\n",
    "# 2. The Password should contain at least a number and three special characters.\n",
    "# 3. The length of the password should be 10 characters long."
   ]
  },
  {
   "cell_type": "code",
   "execution_count": 17,
   "id": "dbaf9889-9e0d-41c4-b790-0ebebe5b47c9",
   "metadata": {},
   "outputs": [],
   "source": [
    "# A-1\n",
    "\n",
    "# Here is a function that implements the password validation rules as specified:\n",
    "\n",
    "def validate_password(password):\n",
    "    import re\n",
    "    if len(password) != 10:\n",
    "        return \"Invalid Password\"\n",
    "    elif not re.search(\"[a-z]\", password) or not re.search(\"[A-Z]\", password) or len(re.findall(\"[a-z]\", password)) < 2 or len(re.findall(\"[A-Z]\", password)) < 2:\n",
    "        return \"Invalid Password\"\n",
    "    elif not re.search(\"[0-9]\", password) or not re.search(\"[!@#$%^&*]\", password) or len(re.findall(\"[!@#$%^&*]\", password)) < 3:\n",
    "        return \"Invalid Password\"\n",
    "    else:\n",
    "        return \"Valid Password\"\n",
    "\n"
   ]
  },
  {
   "cell_type": "code",
   "execution_count": 18,
   "id": "c0dd1190-b1c7-48cb-a218-e4249ec75ea7",
   "metadata": {},
   "outputs": [
    {
     "data": {
      "text/plain": [
       "'Valid Password'"
      ]
     },
     "execution_count": 18,
     "metadata": {},
     "output_type": "execute_result"
    }
   ],
   "source": [
    "validate_password(\"PW$k!ll$23\")"
   ]
  },
  {
   "cell_type": "code",
   "execution_count": 19,
   "id": "92cdcd3d-88ba-4cd4-acee-d6f007f8d138",
   "metadata": {},
   "outputs": [],
   "source": [
    "# Q-2\n",
    "\n",
    "# Solve the below-given questions using at least one of the following:\n",
    "# 1. Lambda function\n",
    "# 2. Filter function\n",
    "# 3. Map function\n",
    "# 4. List Comprehension\n",
    "\n",
    "# Check if the string starts with a particular letter.\n",
    "# Check if the string is numeric.\n",
    "# Sort a list of tuples having fruit names and their quantity. [(\"mango\",99),(\"orange\",80), (\"grapes\", 1000)]\n",
    "# Find the squares of numbers from 1 to 10.\n",
    "# Find the cube root of numbers from 1 to 10.\n",
    "# Check if a given number is even.\n",
    "# Filter odd numbers from the given list.\n",
    "# [1,2,3,4,5,6,7,8,9,10]\n",
    "# Sort a list of integers into positive and negative integers lists.\n",
    "# [1,2,3,4,5,6,-1,-2,-3,-4,-5,0]"
   ]
  },
  {
   "cell_type": "code",
   "execution_count": 61,
   "id": "9dbb664c-e46c-4aef-bf95-90153b3aa144",
   "metadata": {},
   "outputs": [
    {
     "name": "stdout",
     "output_type": "stream",
     "text": [
      "True\n",
      "True\n",
      "False\n"
     ]
    }
   ],
   "source": [
    "# Ans-2\n",
    "\n",
    "# Here are solutions to the questions using the specified functions:\n",
    "\n",
    "# Check if the string starts with a particular letter:\n",
    "\n",
    "def check_starts_with(string, letter):\n",
    "    return string.startswith(letter)\n",
    "print(check_starts_with(\"hello\", \"h\"))\n",
    "print(check_starts_with(\"world\", \"w\"))\n",
    "print(check_starts_with(\"world\", \"r\"))\n",
    "\n"
   ]
  },
  {
   "cell_type": "code",
   "execution_count": 60,
   "id": "0faa6f0d-e731-4aad-bc9f-e78c0dee7642",
   "metadata": {},
   "outputs": [
    {
     "name": "stdout",
     "output_type": "stream",
     "text": [
      "True\n",
      "False\n"
     ]
    }
   ],
   "source": [
    "# Check if the string is numeric:\n",
    "\n",
    "def check_numeric(string):\n",
    "    return string.isnumeric()\n",
    "print(check_numeric(\"12345\"))\n",
    "print(check_numeric(\"abcde\"))\n"
   ]
  },
  {
   "cell_type": "code",
   "execution_count": 59,
   "id": "5f55b95b-12b1-4ac2-94f6-ab8f540f1125",
   "metadata": {},
   "outputs": [
    {
     "name": "stdout",
     "output_type": "stream",
     "text": [
      "[('orange', 80), ('mango', 99), ('grapes', 1000)]\n"
     ]
    }
   ],
   "source": [
    "# Sort a list of tuples having fruit names and their quantity:\n",
    "\n",
    "fruits = [(\"mango\", 99), (\"orange\", 80), (\"grapes\", 1000)]\n",
    "sorted_fruits = sorted(fruits, key=lambda x: x[1])\n",
    "print(sorted_fruits)\n"
   ]
  },
  {
   "cell_type": "code",
   "execution_count": 58,
   "id": "51746dd1-9331-4a94-9a11-b3f2e9d75c58",
   "metadata": {},
   "outputs": [
    {
     "name": "stdout",
     "output_type": "stream",
     "text": [
      "[1, 4, 9, 16, 25, 36, 49, 64, 81, 100]\n"
     ]
    }
   ],
   "source": [
    "# Find the squares of numbers from 1 to 10:\n",
    "\n",
    "squared_numbers = [x**2 for x in range(1, 11)]\n",
    "print(squared_numbers)\n"
   ]
  },
  {
   "cell_type": "code",
   "execution_count": 57,
   "id": "b50bee26-b181-4f2d-a489-aca5834bb17a",
   "metadata": {},
   "outputs": [
    {
     "name": "stdout",
     "output_type": "stream",
     "text": [
      "[1.0, 1.2599210498948732, 1.4422495703074083, 1.5874010519681994, 1.7099759466766968, 1.8171205928321397, 1.912931182772389, 2.0, 2.080083823051904, 2.154434690031884]\n"
     ]
    }
   ],
   "source": [
    "# Find the cube root of numbers from 1 to 10:\n",
    "\n",
    "import math\n",
    "cuberoot_numbers = [math.pow(x, 1/3) for x in range(1, 11)]\n",
    "print(cuberoot_numbers)\n"
   ]
  },
  {
   "cell_type": "code",
   "execution_count": 56,
   "id": "318a7367-cbb3-4d58-bd00-982a30f0de1a",
   "metadata": {},
   "outputs": [
    {
     "name": "stdout",
     "output_type": "stream",
     "text": [
      "True\n"
     ]
    }
   ],
   "source": [
    "# Check if a given number is even:\n",
    "\n",
    "def check_even(number):\n",
    "    return number % 2 == 0\n",
    "print(check_even(4))"
   ]
  },
  {
   "cell_type": "code",
   "execution_count": 55,
   "id": "3058570b-0226-41e4-b42b-fd7cc5451909",
   "metadata": {},
   "outputs": [
    {
     "name": "stdout",
     "output_type": "stream",
     "text": [
      "[1, 3, 5, 7, 9]\n"
     ]
    }
   ],
   "source": [
    "# Filter odd numbers from the given list:\n",
    "\n",
    "numbers = [1, 2, 3, 4, 5, 6, 7, 8, 9, 10]\n",
    "odd_numbers = filter(lambda x: x % 2 != 0, numbers)\n",
    "print(list(odd_numbers))\n"
   ]
  },
  {
   "cell_type": "code",
   "execution_count": 63,
   "id": "cf24a563-a89f-4651-9532-3bad68af0f38",
   "metadata": {},
   "outputs": [
    {
     "name": "stdout",
     "output_type": "stream",
     "text": [
      "[1, 2, 3, 4, 5, 6]\n",
      "[-1, -2, -3, -4, -5]\n"
     ]
    }
   ],
   "source": [
    "# Sort a list of integers into positive and negative integers lists:\n",
    "\n",
    "numbers = [1, 2, 3, 4, 5, 6, -1, -2, -3, -4, -5, 0]\n",
    "positive_numbers = [x for x in numbers if x > 0]\n",
    "negative_numbers = [x for x in numbers if x < 0]\n",
    "print(list(positive_numbers))\n",
    "print(list(negative_numbers))\n"
   ]
  },
  {
   "cell_type": "code",
   "execution_count": null,
   "id": "33d01073-e249-44de-91cc-b8984b2e4d9b",
   "metadata": {},
   "outputs": [],
   "source": []
  }
 ],
 "metadata": {
  "kernelspec": {
   "display_name": "Python 3 (ipykernel)",
   "language": "python",
   "name": "python3"
  },
  "language_info": {
   "codemirror_mode": {
    "name": "ipython",
    "version": 3
   },
   "file_extension": ".py",
   "mimetype": "text/x-python",
   "name": "python",
   "nbconvert_exporter": "python",
   "pygments_lexer": "ipython3",
   "version": "3.10.8"
  }
 },
 "nbformat": 4,
 "nbformat_minor": 5
}
