{
 "cells": [
  {
   "cell_type": "code",
   "execution_count": 1,
   "id": "932b453c-36ce-4afa-b680-e0e8add0bbb8",
   "metadata": {},
   "outputs": [],
   "source": [
    "# Que-1\n",
    "\n",
    "# Explain with an example each when to use a for loop and a while loop."
   ]
  },
  {
   "cell_type": "code",
   "execution_count": 2,
   "id": "c8c8a062-ee1f-4f6c-96f3-2232e240b93c",
   "metadata": {},
   "outputs": [
    {
     "name": "stdout",
     "output_type": "stream",
     "text": [
      "apple\n",
      "banana\n",
      "cherry\n"
     ]
    }
   ],
   "source": [
    "# Ans-1\n",
    "\n",
    "# For loops are used when we want to iterate over a sequence (such as a list, tuple, or string) or other iterable object and execute a block of code a specific number of times.\n",
    "\n",
    "# Example:\n",
    "\n",
    "fruits = [\"apple\", \"banana\", \"cherry\"]\n",
    "for fruit in fruits:\n",
    "  print(fruit)\n"
   ]
  },
  {
   "cell_type": "code",
   "execution_count": 3,
   "id": "7490e8d1-e675-4701-9107-05f89786cf87",
   "metadata": {},
   "outputs": [
    {
     "name": "stdout",
     "output_type": "stream",
     "text": [
      "0\n",
      "1\n",
      "2\n",
      "3\n",
      "4\n"
     ]
    }
   ],
   "source": [
    "# While loops are used when we want to keep executing a block of code as long as a certain condition is met.\n",
    "\n",
    "count = 0\n",
    "while count < 5:\n",
    "  print(count)\n",
    "  count += 1\n"
   ]
  },
  {
   "cell_type": "code",
   "execution_count": 4,
   "id": "d7ff704a-9d3a-4368-92f0-68bb04340512",
   "metadata": {},
   "outputs": [],
   "source": [
    "# Que-2\n",
    "\n",
    "# Write a python program to print the sum and product of the first 10 natural numbers using for and while loop.\n"
   ]
  },
  {
   "cell_type": "code",
   "execution_count": 5,
   "id": "d4db8094-b22f-49c7-92af-e77b30082ede",
   "metadata": {},
   "outputs": [
    {
     "name": "stdout",
     "output_type": "stream",
     "text": [
      "Sum of the first 10 natural numbers using for loop: 55\n",
      "Product of the first 10 natural numbers using for loop: 3628800\n"
     ]
    }
   ],
   "source": [
    "# Ans-2\n",
    "\n",
    "# Here is an example of printing the sum and product of the first 10 natural numbers using both for and while loop in Python:\n",
    "\n",
    "# Using for loop:\n",
    "\n",
    "# Initialize sum and product\n",
    "sum = 0\n",
    "product = 1\n",
    "\n",
    "# Iterate over the first 10 natural numbers using a for loop\n",
    "for i in range(1, 11):\n",
    "    sum += i\n",
    "    product *= i\n",
    "\n",
    "# Print the sum and product\n",
    "print(\"Sum of the first 10 natural numbers using for loop:\", sum)\n",
    "print(\"Product of the first 10 natural numbers using for loop:\", product)\n"
   ]
  },
  {
   "cell_type": "code",
   "execution_count": 6,
   "id": "4cc332af-95d1-48fc-865e-b17081eab96c",
   "metadata": {},
   "outputs": [
    {
     "name": "stdout",
     "output_type": "stream",
     "text": [
      "Sum of the first 10 natural numbers using while loop: 55\n",
      "Product of the first 10 natural numbers using while loop: 3628800\n"
     ]
    }
   ],
   "source": [
    "# Using while loop:\n",
    "\n",
    "# Initialize variables\n",
    "count = 1\n",
    "sum = 0\n",
    "product = 1\n",
    "\n",
    "# Use a while loop to iterate over the first 10 natural numbers\n",
    "while count <= 10:\n",
    "    sum += count\n",
    "    product *= count\n",
    "    count += 1\n",
    "\n",
    "# Print the sum and product\n",
    "print(\"Sum of the first 10 natural numbers using while loop:\", sum)\n",
    "print(\"Product of the first 10 natural numbers using while loop:\", product)\n"
   ]
  },
  {
   "cell_type": "code",
   "execution_count": 8,
   "id": "18645866-2166-4981-b4f6-c7e8164e911c",
   "metadata": {},
   "outputs": [],
   "source": [
    "# Que-3\n",
    "\n",
    "# Create a python program to compute the electricity bill for a household.\n",
    "# The per-unit charges in rupees are as follows: For the first 100 units, the user will be charged Rs. 4.5 per unit, for the next 100 units, the user will be charged Rs. 6 per unit, and for the next 100 units, the user will be charged Rs. 10 per unit, After 300 units and above the user will be charged Rs. 20 per unit.  \n",
    "\n",
    "# You are required to take the units of electricity consumed in a month from the user as input.  \n",
    "\n",
    "\n",
    "# Your program must pass this test case: when the unit of electricity consumed by the user in a month is\n",
    "# 310, the total electricity bill should be 2250."
   ]
  },
  {
   "cell_type": "code",
   "execution_count": 10,
   "id": "07106713-58b7-4b0d-accc-bd9505339486",
   "metadata": {},
   "outputs": [
    {
     "name": "stdin",
     "output_type": "stream",
     "text": [
      "Enter the number of units consumed in a month:  310\n"
     ]
    },
    {
     "name": "stdout",
     "output_type": "stream",
     "text": [
      "The total electricity bill is: 2250.0 Rupees\n"
     ]
    }
   ],
   "source": [
    "# Ans-3\n",
    "\n",
    "# Here is a Python program to compute the electricity bill for a household based on the per-unit charges:\n",
    "\n",
    "# Take the number of units consumed as input\n",
    "units = int(input(\"Enter the number of units consumed in a month: \"))\n",
    "\n",
    "# Initialize the bill variable\n",
    "bill = 0\n",
    "\n",
    "# Check the number of units consumed and calculate the bill accordingly\n",
    "if units <= 100:\n",
    "    bill = units * 4.5\n",
    "elif units <= 200:\n",
    "    bill = (100 * 4.5) + ((units - 100) * 6)\n",
    "elif units <= 300:\n",
    "    bill = (100 * 4.5) + (100 * 6) + ((units - 200) * 10)\n",
    "else:\n",
    "    bill = (100 * 4.5) + (100 * 6) + (100 * 10) + ((units - 300) * 20)\n",
    "\n",
    "# Print the total electricity bill\n",
    "print(\"The total electricity bill is:\", bill, \"Rupees\")\n",
    "\n",
    "# When the unit of electricity consumed by the user in a month is 310, the output of the program will be:\n"
   ]
  },
  {
   "cell_type": "code",
   "execution_count": 11,
   "id": "2c5c154d-e7c3-433b-9464-f3acc89b3a4e",
   "metadata": {},
   "outputs": [],
   "source": [
    "# Que-4\n",
    "\n",
    "# Create a list of numbers from 1 to 100. Use for loop and while loop to calculate the cube of each number and if the cube of that number is divisible by 4 or 5 then append that number in a list and print that list.\n"
   ]
  },
  {
   "cell_type": "code",
   "execution_count": 12,
   "id": "0760ecce-1991-4193-b40f-a12eba03b031",
   "metadata": {},
   "outputs": [
    {
     "name": "stdout",
     "output_type": "stream",
     "text": [
      "Numbers whose cube is divisible by 4 or 5: [2, 4, 5, 6, 8, 10, 12, 14, 15, 16, 18, 20, 22, 24, 25, 26, 28, 30, 32, 34, 35, 36, 38, 40, 42, 44, 45, 46, 48, 50, 52, 54, 55, 56, 58, 60, 62, 64, 65, 66, 68, 70, 72, 74, 75, 76, 78, 80, 82, 84, 85, 86, 88, 90, 92, 94, 95, 96, 98, 100]\n"
     ]
    }
   ],
   "source": [
    "# Ans-4 \n",
    "\n",
    "# Here is a Python program that creates a list of numbers from 1 to 100, calculates the cube of each number and appends the numbers whose cube is divisible by 4 or 5 to a new list and prints that list:\n",
    "\n",
    "# Using for loop:\n",
    "\n",
    "# Create a list of numbers from 1 to 100\n",
    "numbers = [i for i in range(1, 101)]\n",
    "\n",
    "# Initialize a new list to store the numbers whose cube is divisible by 4 or 5\n",
    "result = []\n",
    "\n",
    "# Use a for loop to calculate the cube of each number and check if it is divisible by 4 or 5\n",
    "for number in numbers:\n",
    "    cube = number**3\n",
    "    if cube % 4 == 0 or cube % 5 == 0:\n",
    "        result.append(number)\n",
    "\n",
    "# Print the result list\n",
    "print(\"Numbers whose cube is divisible by 4 or 5:\", result)\n"
   ]
  },
  {
   "cell_type": "code",
   "execution_count": 14,
   "id": "4ce8cb6e-3e57-4ca0-96ca-e4301c515af1",
   "metadata": {},
   "outputs": [
    {
     "name": "stdout",
     "output_type": "stream",
     "text": [
      "Numbers whose cube is divisible by 4 or 5: [2, 4, 5, 6, 8, 10, 12, 14, 15, 16, 18, 20, 22, 24, 25, 26, 28, 30, 32, 34, 35, 36, 38, 40, 42, 44, 45, 46, 48, 50, 52, 54, 55, 56, 58, 60, 62, 64, 65, 66, 68, 70, 72, 74, 75, 76, 78, 80, 82, 84, 85, 86, 88, 90, 92, 94, 95, 96, 98, 100]\n"
     ]
    }
   ],
   "source": [
    "# Using while loop:\n",
    "\n",
    "# Initialize variables\n",
    "count = 1\n",
    "result = []\n",
    "\n",
    "# Use a while loop to calculate the cube of each number from 1 to 100 and check if it is divisible by 4 or 5\n",
    "while count <= 100:\n",
    "    cube = count**3\n",
    "    if cube % 4 == 0 or cube % 5 == 0:\n",
    "        result.append(count)\n",
    "    count += 1\n",
    "\n",
    "# Print the result list\n",
    "print(\"Numbers whose cube is divisible by 4 or 5:\", result)\n",
    "\n",
    "# Both the for loop and while loop will give the same output:"
   ]
  },
  {
   "cell_type": "code",
   "execution_count": 15,
   "id": "ce5ccc39-c2d6-468e-80dc-b91b01960baa",
   "metadata": {},
   "outputs": [],
   "source": [
    "# Que-5\n",
    "\n",
    "# Write a program to filter count vowels in the below-given string. \n",
    "# string = \"I want to become a data scientist\"\n"
   ]
  },
  {
   "cell_type": "code",
   "execution_count": 16,
   "id": "84967af4-f6b9-4344-be42-486157935002",
   "metadata": {},
   "outputs": [
    {
     "name": "stdout",
     "output_type": "stream",
     "text": [
      "The number of vowels in the string is: 12\n"
     ]
    }
   ],
   "source": [
    "# Ans-5\n",
    "\n",
    "# Here is a Python program to filter and count the vowels in a given string:\n",
    "\n",
    "# The string to filter vowels from\n",
    "string = \"I want to become a data scientist\"\n",
    "\n",
    "# Initialize the vowels count\n",
    "vowel_count = 0\n",
    "\n",
    "# Create a list of vowels\n",
    "vowels = ['a', 'e', 'i', 'o', 'u', 'A', 'E', 'I', 'O', 'U']\n",
    "\n",
    "# Use a for loop to iterate through each character in the string\n",
    "for char in string:\n",
    "    # Check if the character is a vowel\n",
    "    if char in vowels:\n",
    "        # Increment the vowel count\n",
    "        vowel_count += 1\n",
    "\n",
    "# Print the count of vowels in the string\n",
    "print(\"The number of vowels in the string is:\", vowel_count)\n"
   ]
  },
  {
   "cell_type": "code",
   "execution_count": null,
   "id": "881b55b3-46f7-44db-b2b4-6d31ea580248",
   "metadata": {},
   "outputs": [],
   "source": []
  }
 ],
 "metadata": {
  "kernelspec": {
   "display_name": "Python 3 (ipykernel)",
   "language": "python",
   "name": "python3"
  },
  "language_info": {
   "codemirror_mode": {
    "name": "ipython",
    "version": 3
   },
   "file_extension": ".py",
   "mimetype": "text/x-python",
   "name": "python",
   "nbconvert_exporter": "python",
   "pygments_lexer": "ipython3",
   "version": "3.10.8"
  }
 },
 "nbformat": 4,
 "nbformat_minor": 5
}
