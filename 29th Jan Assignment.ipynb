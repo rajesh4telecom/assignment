{
 "cells": [
  {
   "cell_type": "code",
   "execution_count": 1,
   "id": "0a2b95cc-29fb-4d97-b127-ec7c75804fc5",
   "metadata": {},
   "outputs": [],
   "source": [
    "#Q1 Who developed Python Programming Language?"
   ]
  },
  {
   "cell_type": "code",
   "execution_count": 2,
   "id": "de938846-fbcc-439d-8011-6a5481d72d39",
   "metadata": {},
   "outputs": [],
   "source": [
    "#A1 Python was developed by Guido van Rossum."
   ]
  },
  {
   "cell_type": "code",
   "execution_count": 3,
   "id": "f4a6a458-f0c4-48d5-b41c-76198f22bd67",
   "metadata": {},
   "outputs": [],
   "source": [
    "#Q2 Which type of Programming does  Python support?"
   ]
  },
  {
   "cell_type": "code",
   "execution_count": 4,
   "id": "3733c94b-e9ea-4806-aa9c-2d8e90f71115",
   "metadata": {},
   "outputs": [],
   "source": [
    "#A2 Python supports multiple programming paradigms, including procedural, object-oriented, and functional programming."
   ]
  },
  {
   "cell_type": "code",
   "execution_count": 5,
   "id": "0fb71ae3-e7c8-466e-a27f-fdc9e8454b38",
   "metadata": {},
   "outputs": [],
   "source": [
    "#Q3 Is Python case sensitive when dealing with identifiers?"
   ]
  },
  {
   "cell_type": "code",
   "execution_count": 6,
   "id": "bce5f699-c392-421b-80c3-22ecf87746af",
   "metadata": {},
   "outputs": [],
   "source": [
    "#A3 Yes, Python is case sensitive when dealing with identifiers."
   ]
  },
  {
   "cell_type": "code",
   "execution_count": 7,
   "id": "e2167e82-c4ee-457c-99b5-8a7654dc5be8",
   "metadata": {},
   "outputs": [],
   "source": [
    "#Q4 What is the correct extension of the Python file?"
   ]
  },
  {
   "cell_type": "code",
   "execution_count": 8,
   "id": "a7492b4b-e92f-449f-8b74-42d90307eac3",
   "metadata": {},
   "outputs": [],
   "source": [
    "#A4 The correct extension of a Python file is \".py\"."
   ]
  },
  {
   "cell_type": "code",
   "execution_count": 9,
   "id": "0d814b46-4e32-4a70-af7f-cd4b68aee21e",
   "metadata": {},
   "outputs": [],
   "source": [
    "#Q5 Is Python code compiled or interpreted?"
   ]
  },
  {
   "cell_type": "code",
   "execution_count": 10,
   "id": "6b63472e-129f-4490-9b15-d1b6fa24ac3e",
   "metadata": {},
   "outputs": [],
   "source": [
    "#A5 Python code is interpreted."
   ]
  },
  {
   "cell_type": "code",
   "execution_count": 11,
   "id": "c18aae12-f7a9-48fe-86e3-01edbc577f6e",
   "metadata": {},
   "outputs": [],
   "source": [
    "#Q6 Name a few  blocks of code used to define in Python language?"
   ]
  },
  {
   "cell_type": "code",
   "execution_count": 36,
   "id": "f021b9c5-8ac8-4974-9b83-d7079b67f6a4",
   "metadata": {},
   "outputs": [],
   "source": [
    "# #A6 A few blocks of code used to define in the Python language are:\n",
    "\n",
    "# 1. Functions\n",
    "# 2. Classes\n",
    "# 3. Methods\n",
    "# 4. Loops (for, while)\n",
    "# 5. Conditional statements (if-else)"
   ]
  },
  {
   "cell_type": "code",
   "execution_count": 15,
   "id": "c7803d79-393b-4526-839d-4cffd286522e",
   "metadata": {},
   "outputs": [],
   "source": [
    "#Q7 State  a character used to give single-line comments in Python?"
   ]
  },
  {
   "cell_type": "code",
   "execution_count": 16,
   "id": "597261dc-3a7f-42ff-ad54-2c76a1a58f2c",
   "metadata": {},
   "outputs": [],
   "source": [
    "#A7 The character '#' is used to give single-line comments in Python."
   ]
  },
  {
   "cell_type": "code",
   "execution_count": 17,
   "id": "850ce098-3597-49ee-8b80-2b55677fc332",
   "metadata": {},
   "outputs": [],
   "source": [
    "#Q8 Mention functions which can help us to find the version of python that we are currently working on?"
   ]
  },
  {
   "cell_type": "code",
   "execution_count": 33,
   "id": "aff3fcae-f597-46e4-9857-585eeafb5a5f",
   "metadata": {},
   "outputs": [],
   "source": [
    "# #A8 You can use the following functions to find the version of Python you're currently working on:\n",
    "\n",
    "# 1. sys.version\n",
    "# 2. sys.version_info\n",
    "# 3. platform.python_version()"
   ]
  },
  {
   "cell_type": "code",
   "execution_count": 21,
   "id": "47a56161-c71d-49b8-b82f-6de48bc2cdd9",
   "metadata": {},
   "outputs": [],
   "source": [
    "#Q9 Python supports the creation of anonymous functions at runtime, using a construct called"
   ]
  },
  {
   "cell_type": "code",
   "execution_count": 22,
   "id": "d8740d63-04f2-4306-ab19-1631c89f2deb",
   "metadata": {},
   "outputs": [],
   "source": [
    "#A9 \"lambda function\"."
   ]
  },
  {
   "cell_type": "code",
   "execution_count": 23,
   "id": "64e20d40-dec4-4094-8638-4f28d0066968",
   "metadata": {},
   "outputs": [],
   "source": [
    "#Q10 What does pip stand for python?"
   ]
  },
  {
   "cell_type": "code",
   "execution_count": 24,
   "id": "0fcc6f0c-1384-46cd-9b20-65c998b00c4f",
   "metadata": {},
   "outputs": [],
   "source": [
    "#A10 pip stands for \"Pip Installs Packages\". It is a package management system for Python, used to install and manage packages and modules in Python projects."
   ]
  },
  {
   "cell_type": "code",
   "execution_count": 25,
   "id": "943f10ca-468d-45e3-b102-42cd701fc00c",
   "metadata": {},
   "outputs": [],
   "source": [
    "#Q11 Mention a few  built-in functionsin python?"
   ]
  },
  {
   "cell_type": "code",
   "execution_count": 34,
   "id": "53d5d11d-d47a-401e-a8f6-365e50e7664a",
   "metadata": {},
   "outputs": [],
   "source": [
    "# #A11 In Python, there are several built-in functions such as:\n",
    "\n",
    "# print()\n",
    "# len()\n",
    "# int(), float(), str()\n",
    "# min(), max()\n",
    "# range()\n",
    "# sum()\n",
    "# abs()\n",
    "# type()\n",
    "# sorted()\n",
    "# any()\n",
    "# all()\n",
    "# enumerate()\n",
    "# etc."
   ]
  },
  {
   "cell_type": "code",
   "execution_count": 28,
   "id": "9526ba06-c42a-4097-8ebd-a83fd332d208",
   "metadata": {},
   "outputs": [],
   "source": [
    "#Q12 What is the maximum possible length of an  identifier in Python?"
   ]
  },
  {
   "cell_type": "code",
   "execution_count": 29,
   "id": "04fc2624-61e7-4ba3-99e4-027e779aba75",
   "metadata": {},
   "outputs": [],
   "source": [
    "#A12 There is no specific length limit for an identifier in Python, but it is limited by the amount of memory available to the Python interpreter. It is recommended to keep the length of an identifier to a reasonable length for readability and maintainability."
   ]
  },
  {
   "cell_type": "code",
   "execution_count": 31,
   "id": "01cb69ca-7d5b-4b1c-a066-6fe3e342a28a",
   "metadata": {},
   "outputs": [],
   "source": [
    "#Q13 What are the benefits of using  Python?"
   ]
  },
  {
   "cell_type": "code",
   "execution_count": 35,
   "id": "34db1a55-0b61-424a-a83b-74e66b323168",
   "metadata": {},
   "outputs": [],
   "source": [
    "# #A13 There are several benefits of using Python:\n",
    "\n",
    "# Easy to learn and use: Python has an easy-to-read syntax that makes it a great choice for beginner programmers.\n",
    "\n",
    "# Versatile: Python can be used for a variety of tasks such as web development, scientific computing, data analysis, machine learning, artificial intelligence, and more.\n",
    "\n",
    "# Large community: Python has a huge and supportive community, which makes it easy to find answers to questions, find resources, and collaborate with other users.\n",
    "\n",
    "# Plenty of libraries and modules: Python has a large standard library and many additional libraries and modules available, which can be easily imported to extend the functionality of the language.\n",
    "\n",
    "# Cross-platform support: Python can run on a variety of platforms such as Windows, macOS, and Linux, making it a portable language that can be used on different operating systems.\n",
    "\n",
    "# High-level language: Python is a high-level language, which means that it abstracts low-level details and provides a higher level of abstraction, making it easier to write code quickly."
   ]
  },
  {
   "cell_type": "code",
   "execution_count": 37,
   "id": "b5c9eb03-8597-4cc8-9263-1ae7ef48057c",
   "metadata": {},
   "outputs": [],
   "source": [
    "#Q14 How is memory managed in Python?"
   ]
  },
  {
   "cell_type": "code",
   "execution_count": 38,
   "id": "209d6a79-5b5c-4b50-b327-fd6e721aeb02",
   "metadata": {},
   "outputs": [],
   "source": [
    "#A14 In Python, memory management is performed by the Python Memory Manager and the underlying Operating System. The Python Memory Manager is responsible for allocating and freeing memory, and provides an abstraction layer over the memory allocated by the Operating System. Python uses a technique called reference counting for memory management, where it keeps track of the number of references to an object in memory. When an object's reference count reaches zero, the Python Memory Manager automatically frees the memory used by that object. Additionally, Python also has a Garbage Collector which runs periodically and collects any objects that are no longer in use and frees the memory occupied by them."
   ]
  },
  {
   "cell_type": "code",
   "execution_count": 39,
   "id": "56932e1e-6ed6-4b12-b9ce-04ef8a2df847",
   "metadata": {},
   "outputs": [],
   "source": [
    "#Q15 How to install Python on Windows and sot path variables?"
   ]
  },
  {
   "cell_type": "code",
   "execution_count": null,
   "id": "5e3fba39-21e6-438c-92f9-9e1ff84212f6",
   "metadata": {},
   "outputs": [],
   "source": [
    "#A15 "
   ]
  }
 ],
 "metadata": {
  "kernelspec": {
   "display_name": "Python 3 (ipykernel)",
   "language": "python",
   "name": "python3"
  },
  "language_info": {
   "codemirror_mode": {
    "name": "ipython",
    "version": 3
   },
   "file_extension": ".py",
   "mimetype": "text/x-python",
   "name": "python",
   "nbconvert_exporter": "python",
   "pygments_lexer": "ipython3",
   "version": "3.10.8"
  }
 },
 "nbformat": 4,
 "nbformat_minor": 5
}
