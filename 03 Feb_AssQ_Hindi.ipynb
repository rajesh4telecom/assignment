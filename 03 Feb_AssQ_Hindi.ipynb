{
 "cells": [
  {
   "cell_type": "code",
   "execution_count": 2,
   "id": "a26071d2-de25-4608-8a6b-224579492baa",
   "metadata": {},
   "outputs": [],
   "source": [
    "# Que-1\n",
    "\n",
    "# Which keyword is used to create a function? Create a function to return a list of odd numbers in the range of 1 to 25."
   ]
  },
  {
   "cell_type": "code",
   "execution_count": 18,
   "id": "636214d5-e7e3-4790-a68d-fcb1f67286f0",
   "metadata": {},
   "outputs": [
    {
     "name": "stdout",
     "output_type": "stream",
     "text": [
      "[2, 4, 6, 8, 10, 12, 14, 16, 18, 20, 22, 24]\n"
     ]
    }
   ],
   "source": [
    "# The keyword used to create a function is def. Here's an example function to return a list of odd numbers in the range of 1 to 25:\n",
    "\n",
    "def odd_numbers():\n",
    "    odd_num_list = []\n",
    "    for i in range(1, 25):\n",
    "        if i % 2 == 0:\n",
    "            odd_num_list.append(i)\n",
    "    return odd_num_list\n",
    "\n",
    "print(odd_numbers())"
   ]
  },
  {
   "cell_type": "code",
   "execution_count": 16,
   "id": "6ddf5c62-6339-41e3-a738-496d1775ce23",
   "metadata": {},
   "outputs": [],
   "source": [
    "# Que-2\n",
    "\n",
    "# Why *args and **kwargs is used in some functions? Create a function each for *args and **kwargs to demonstrate their use."
   ]
  },
  {
   "cell_type": "code",
   "execution_count": 17,
   "id": "1b74a575-d7aa-4113-a06e-63b5207be347",
   "metadata": {},
   "outputs": [
    {
     "name": "stdout",
     "output_type": "stream",
     "text": [
      "Rajesh\n",
      "pwskills\n",
      "881\n"
     ]
    }
   ],
   "source": [
    "# And-2\n",
    "\n",
    "# '*args' and '**kwargs' are used in functions as a way to pass a variable number of arguments to a function. '*args' allows you to pass a variable number of non-keyword arguments to a function, while '**kwargs' allows you to pass a variable number of keyword arguments.\n",
    "\n",
    "\n",
    "# Here's an example function that demonstrates the use of '*args':\n",
    "\n",
    "def print_args(*args):\n",
    "    for arg in args:\n",
    "        print(arg)\n",
    "        \n",
    "print_args(\"Rajesh\" , \"pwskills\" , 881)"
   ]
  },
  {
   "cell_type": "code",
   "execution_count": 20,
   "id": "2028e022-b897-4aa4-bd18-e362481bde17",
   "metadata": {},
   "outputs": [
    {
     "name": "stdout",
     "output_type": "stream",
     "text": [
      "first_name : Rajesh\n",
      "last_name : Moharana\n",
      "age : 33\n"
     ]
    }
   ],
   "source": [
    "# And here's an example function that demonstrates the use of '**kwargs':\n",
    "\n",
    "def print_kwargs(**kwargs):\n",
    "    for key , value in kwargs.items():\n",
    "        print(f\"{key} : {value}\")\n",
    "        \n",
    "print_kwargs(first_name=\"Rajesh\" , last_name=\"Moharana\" , age=33)\n"
   ]
  },
  {
   "cell_type": "code",
   "execution_count": 22,
   "id": "306802c6-712e-4176-a664-99d91f4992d4",
   "metadata": {},
   "outputs": [],
   "source": [
    "# Que-3 \n",
    "\n",
    "# What is an iterator in python? Name the method used to initialise the iterator object and the method used for iteration. Use these methods to print the first five elements of the given list [2, 4, 6, 8, 10, 12, 14, 16, 18, 20].\n"
   ]
  },
  {
   "cell_type": "code",
   "execution_count": 29,
   "id": "02b31423-9004-440d-b3e4-a63a46c388c3",
   "metadata": {},
   "outputs": [
    {
     "name": "stdout",
     "output_type": "stream",
     "text": [
      "2\n",
      "4\n",
      "6\n",
      "8\n",
      "10\n"
     ]
    }
   ],
   "source": [
    "# Ans-3\n",
    "\n",
    "# An iterator in Python is an object that can be iterated (looped) upon. An object which will return data, one element at a time when next() is called on it. In Python, an iterator must implement two methods, __iter__() and __next__(), to be considered as an iterator.\n",
    "\n",
    "# Here's an example that uses these methods to print the first five elements of the given list [2, 4, 6, 8, 10, 12, 14, 16, 18, 20]:\n",
    "\n",
    "class IterateList:\n",
    "    def __init__(self, lst):\n",
    "        self.lst = lst\n",
    "        self.index = 0\n",
    "\n",
    "    def __iter__(self):\n",
    "        return self\n",
    "\n",
    "    def __next__(self):\n",
    "        if self.index < len(self.lst):\n",
    "            result = self.lst[self.index]\n",
    "            self.index += 1\n",
    "            return result\n",
    "        else:\n",
    "            raise StopIteration\n",
    "\n",
    "numbers = [2, 4, 6, 8, 10, 12, 14, 16, 18, 20]\n",
    "numbers_iterator = IterateList(numbers)\n",
    "\n",
    "for i in range(5):\n",
    "    print(next(numbers_iterator))\n",
    "\n"
   ]
  },
  {
   "cell_type": "code",
   "execution_count": 30,
   "id": "df2daaba-e9c8-42fe-9f1f-b440696fa461",
   "metadata": {},
   "outputs": [],
   "source": [
    "# Que-4\n",
    "\n",
    "# What is a generator function in python? Why yield keyword is used? Give an example of a generator function."
   ]
  },
  {
   "cell_type": "code",
   "execution_count": 31,
   "id": "25c22dd5-ae27-4295-b975-1a41f676c227",
   "metadata": {},
   "outputs": [
    {
     "name": "stdout",
     "output_type": "stream",
     "text": [
      "0\n",
      "1\n",
      "1\n",
      "2\n",
      "3\n",
      "5\n",
      "8\n",
      "13\n",
      "21\n",
      "34\n"
     ]
    }
   ],
   "source": [
    "# Ans-4\n",
    "\n",
    "# A generator function in Python is a special type of function that returns an iterator that generates values on-the-fly, rather than computing and returning a result immediately. This can be useful when the result is very large or when it's not possible to compute it at once.\n",
    "\n",
    "# The yield keyword is used in a generator function to return a value, but instead of stopping the function, it pauses the function's execution and retains its state. The next time the function is called, it resumes from the point where it left off, rather than starting from the beginning.\n",
    "\n",
    "# Here's an example of a generator function that generates the fibonacci sequence:\n",
    "\n",
    "def fibonacci_sequence():\n",
    "    a, b = 0, 1\n",
    "    while True:\n",
    "        yield a\n",
    "        a, b = b, a + b\n",
    "        \n",
    "fib = fibonacci_sequence()\n",
    "for i in range(10):\n",
    "    print(next(fib))\n"
   ]
  },
  {
   "cell_type": "code",
   "execution_count": 32,
   "id": "6bbdcd76-c038-4d63-97b8-16b0a46d6b55",
   "metadata": {},
   "outputs": [],
   "source": [
    "# Que-5 \n",
    "\n",
    "# Create a generator function for prime numbers less than 1000. Use the next() method to print the first 20 prime numbers.\n"
   ]
  },
  {
   "cell_type": "code",
   "execution_count": 35,
   "id": "12e7390e-84c9-47f2-b052-821e51665f1a",
   "metadata": {},
   "outputs": [
    {
     "name": "stdout",
     "output_type": "stream",
     "text": [
      "2\n",
      "3\n",
      "5\n",
      "7\n",
      "11\n",
      "13\n",
      "17\n",
      "19\n",
      "23\n",
      "29\n",
      "31\n",
      "37\n",
      "41\n",
      "43\n",
      "47\n",
      "53\n",
      "59\n",
      "61\n",
      "67\n",
      "71\n"
     ]
    }
   ],
   "source": [
    "# Ans-5\n",
    "\n",
    "# Here's an example of a generator function that generates prime numbers less than 1000:\n",
    "\n",
    "def prime_numbers():\n",
    "    primes = []\n",
    "    for num in range(2, 1000):\n",
    "        for prime in primes:\n",
    "            if num % prime == 0:\n",
    "                break\n",
    "        else:\n",
    "            primes.append(num)\n",
    "            yield num\n",
    "            \n",
    "primes = prime_numbers()\n",
    "for i in range(20):\n",
    "    print(next(primes))\n"
   ]
  },
  {
   "cell_type": "code",
   "execution_count": 36,
   "id": "0a7eb09c-846e-451d-aff1-98e921cec95d",
   "metadata": {},
   "outputs": [],
   "source": [
    "# Que-6\n",
    "\n",
    "# Write a python program to print the first 10 Fibonacci numbers using a while loop.\n"
   ]
  },
  {
   "cell_type": "code",
   "execution_count": 37,
   "id": "4a1b523b-cde7-498b-9e40-fc0381ec6cc1",
   "metadata": {},
   "outputs": [
    {
     "name": "stdout",
     "output_type": "stream",
     "text": [
      "0\n",
      "1\n",
      "1\n",
      "2\n",
      "3\n",
      "5\n",
      "8\n",
      "13\n",
      "21\n",
      "34\n"
     ]
    }
   ],
   "source": [
    "# Ans-6\n",
    "\n",
    "# Here's a Python program that uses a while loop to print the first 10 Fibonacci numbers:\n",
    "\n",
    "a, b = 0, 1\n",
    "count = 0\n",
    "\n",
    "while count < 10:\n",
    "    print(a)\n",
    "    nth = a + b\n",
    "    a = b\n",
    "    b = nth\n",
    "    count += 1\n",
    "    "
   ]
  },
  {
   "cell_type": "code",
   "execution_count": 38,
   "id": "b02ccbeb-ac55-45ac-b834-8aef9fbd2519",
   "metadata": {},
   "outputs": [],
   "source": [
    "# Que-7\n",
    "\n",
    "# Write a List Comprehension to iterate through the given string: ‘pwskills’. Expected output: ['p', 'w', 's', 'k', 'i', 'l', 'l', 's']\n"
   ]
  },
  {
   "cell_type": "code",
   "execution_count": 39,
   "id": "81948336-2b3f-4976-82f4-d367b1fde5db",
   "metadata": {},
   "outputs": [
    {
     "name": "stdout",
     "output_type": "stream",
     "text": [
      "['p', 'w', 's', 'k', 'i', 'l', 'l', 's']\n"
     ]
    }
   ],
   "source": [
    "# Ans-7\n",
    "\n",
    "# Here's a list comprehension to iterate through the given string 'pwskills':\n",
    "\n",
    "string = 'pwskills'\n",
    "output = [char for char in string]\n",
    "print(output)"
   ]
  },
  {
   "cell_type": "code",
   "execution_count": 40,
   "id": "53cdfb3c-c4ba-4111-b5b7-5e04f7ee4ac3",
   "metadata": {},
   "outputs": [],
   "source": [
    "# Que-8\n",
    "\n",
    "# Write a python program to check whether a given number is Palindrome or not using a while loop."
   ]
  },
  {
   "cell_type": "code",
   "execution_count": 52,
   "id": "8caa367e-f692-4f65-8bd5-72b77be15669",
   "metadata": {},
   "outputs": [
    {
     "name": "stdin",
     "output_type": "stream",
     "text": [
      "Enter a number:  181\n"
     ]
    },
    {
     "name": "stdout",
     "output_type": "stream",
     "text": [
      "181 is a palindrome\n"
     ]
    }
   ],
   "source": [
    "# Ans-8\n",
    "\n",
    "# Here's a Python program that uses a while loop to check if a given number is a palindrome or not:\n",
    "\n",
    "def is_palindrome(n):\n",
    "    temp = n\n",
    "    reversed = 0\n",
    "    while temp > 0:\n",
    "        digit = temp % 10\n",
    "        reversed = reversed * 10 + digit\n",
    "        temp //= 10\n",
    "    return n == reversed\n",
    "\n",
    "number = int(input(\"Enter a number: \"))\n",
    "if is_palindrome(number):\n",
    "    print(number, \"is a palindrome\")\n",
    "else:\n",
    "    print(number, \"is not a palindrome\")"
   ]
  },
  {
   "cell_type": "code",
   "execution_count": 53,
   "id": "c51ebe5f-c4f5-42a9-8e20-891c19138127",
   "metadata": {},
   "outputs": [],
   "source": [
    "# Que-9\n",
    "\n",
    "# Write a code to print odd numbers from 1 to 100 using list comprehension.\n",
    "# Note: Use a list comprehension to create a list from 1 to 100 and use another List comprehension to filter out odd numbers.\n",
    "\n"
   ]
  },
  {
   "cell_type": "code",
   "execution_count": 54,
   "id": "9a73ec45-1b3d-4cbc-aa70-126da2659343",
   "metadata": {},
   "outputs": [
    {
     "name": "stdout",
     "output_type": "stream",
     "text": [
      "[1, 3, 5, 7, 9, 11, 13, 15, 17, 19, 21, 23, 25, 27, 29, 31, 33, 35, 37, 39, 41, 43, 45, 47, 49, 51, 53, 55, 57, 59, 61, 63, 65, 67, 69, 71, 73, 75, 77, 79, 81, 83, 85, 87, 89, 91, 93, 95, 97, 99]\n"
     ]
    }
   ],
   "source": [
    "# Ans-9\n",
    "\n",
    "# Here's a code that uses list comprehensions to print odd numbers from 1 to 100:\n",
    "\n",
    "numbers = [x for x in range(1, 101)]\n",
    "odd_numbers = [x for x in numbers if x % 2 != 0]\n",
    "print(odd_numbers)"
   ]
  },
  {
   "cell_type": "code",
   "execution_count": null,
   "id": "bb28cdd6-621a-45e3-9e3d-94924cd6f262",
   "metadata": {},
   "outputs": [],
   "source": []
  }
 ],
 "metadata": {
  "kernelspec": {
   "display_name": "Python 3 (ipykernel)",
   "language": "python",
   "name": "python3"
  },
  "language_info": {
   "codemirror_mode": {
    "name": "ipython",
    "version": 3
   },
   "file_extension": ".py",
   "mimetype": "text/x-python",
   "name": "python",
   "nbconvert_exporter": "python",
   "pygments_lexer": "ipython3",
   "version": "3.10.8"
  }
 },
 "nbformat": 4,
 "nbformat_minor": 5
}
