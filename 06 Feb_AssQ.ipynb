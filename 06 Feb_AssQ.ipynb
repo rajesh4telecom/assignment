{
 "cells": [
  {
   "cell_type": "code",
   "execution_count": 2,
   "id": "5beed702-08de-4e81-ab26-b198c2664a6e",
   "metadata": {},
   "outputs": [],
   "source": [
    "# # # Q-1\n",
    "\n",
    "# Create a function which will take a list as an argument and return the product of all the numbers after creating a flat list.\n",
    "\n",
    "# Use the below-given list as an argument for your function.\n",
    "\n",
    "# list1 = [1,2,3,4, [44,55,66, True], False, (34,56,78,89,34), {1,2,3,3,2,1}, {1:34, \"key2\": [55, 67, 78, 89], 4: (45, 22, 61, 34)}, [56, 'data science'], 'Machine Learning']\n",
    "\n",
    "# Note: you must extract numeric keys and values of the dictionary also."
   ]
  },
  {
   "cell_type": "code",
   "execution_count": 1,
   "id": "02c4caf7-5821-4982-9482-3fbb2b7adfe1",
   "metadata": {},
   "outputs": [
    {
     "name": "stdout",
     "output_type": "stream",
     "text": [
      "689118639831180913138973540352000\n"
     ]
    }
   ],
   "source": [
    "# A-1\n",
    "\n",
    "# Here is a function that takes a list as an argument and returns the product of all the numbers after creating a flat list:\n",
    "\n",
    "def calculate_product(lst):\n",
    "    flat_list = []\n",
    "\n",
    "    def flatten(l):\n",
    "        for item in l:\n",
    "            if type(item) == int:\n",
    "                flat_list.append(item)\n",
    "            elif type(item) == float:\n",
    "                flat_list.append(item)\n",
    "            elif type(item) == tuple:\n",
    "                flatten(item)\n",
    "            elif type(item) == list:\n",
    "                flatten(item)\n",
    "            elif type(item) == dict:\n",
    "                for key, value in item.items():\n",
    "                    if type(key) in [int, float]:\n",
    "                        flat_list.append(key)\n",
    "                    if type(value) in [int, float]:\n",
    "                        flat_list.append(value)\n",
    "                    elif type(value) in [list, tuple]:\n",
    "                        flatten(value)\n",
    "\n",
    "    flatten(lst)\n",
    "    product = 1\n",
    "    for item in flat_list:\n",
    "        product *= item\n",
    "    return product\n",
    "\n",
    "list1 = [1,2,3,4, [44,55,66, True], False, (34,56,78,89,34), {1,2,3,3,2,1}, {1:34, \"key2\": [55, 67, 78, 89], 4: (45, 22, 61, 34)}, [56, 'data science'], 'Machine Learning']\n",
    "print(calculate_product(list1))"
   ]
  },
  {
   "cell_type": "code",
   "execution_count": 5,
   "id": "33874343-d859-4bbd-ae64-756cef0d2a65",
   "metadata": {},
   "outputs": [],
   "source": [
    "# Q-2\n",
    "\n",
    "# Write a python program for encrypting a message sent to you by your friend. The logic of encryption should be such that, for a the output should be z. For b, the output should be y. For c, the output should be x respectively. Also, the whitespace should be replaced with a dollar sign. Keep the punctuation marks unchanged.\n",
    "\n",
    "\n",
    "# Input Sentence: I want to become a Data Scientist.\n",
    "\n",
    "\n",
    "# Encrypt the above input sentence using the program you just created.\n",
    "\n",
    "\n",
    "# Note: Convert the given input sentence into lowercase before encrypting. The final output should be lowercase.\n"
   ]
  },
  {
   "cell_type": "code",
   "execution_count": 6,
   "id": "20653c95-4fb7-4169-87cd-412de51070b0",
   "metadata": {},
   "outputs": [
    {
     "name": "stdout",
     "output_type": "stream",
     "text": [
      "r$dzmg$gl$yvxlnv$z$wzgz$hxrvmgrhg.\n"
     ]
    }
   ],
   "source": [
    "# A-2\n",
    "\n",
    "def encrypt_sentence(sentence):\n",
    "    encrypted_sentence = \"\"\n",
    "    for char in sentence.lower():\n",
    "        if char == \" \":\n",
    "            encrypted_sentence += \"$\"\n",
    "        elif char.isalpha():\n",
    "            encrypted_sentence += chr(122 - ord(char) + 97)\n",
    "        else:\n",
    "            encrypted_sentence += char\n",
    "    return encrypted_sentence\n",
    "\n",
    "input_sentence = \"I want to become a Data Scientist.\"\n",
    "encrypted_sentence = encrypt_sentence(input_sentence)\n",
    "print(encrypted_sentence)\n"
   ]
  },
  {
   "cell_type": "code",
   "execution_count": null,
   "id": "38255035-2224-4345-a178-8d785bf37ee4",
   "metadata": {},
   "outputs": [],
   "source": []
  }
 ],
 "metadata": {
  "kernelspec": {
   "display_name": "Python 3 (ipykernel)",
   "language": "python",
   "name": "python3"
  },
  "language_info": {
   "codemirror_mode": {
    "name": "ipython",
    "version": 3
   },
   "file_extension": ".py",
   "mimetype": "text/x-python",
   "name": "python",
   "nbconvert_exporter": "python",
   "pygments_lexer": "ipython3",
   "version": "3.10.8"
  }
 },
 "nbformat": 4,
 "nbformat_minor": 5
}
