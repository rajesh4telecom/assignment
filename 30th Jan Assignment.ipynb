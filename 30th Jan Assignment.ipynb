{
 "cells": [
  {
   "cell_type": "code",
   "execution_count": 34,
   "id": "7c140ce2-000f-4b02-8e1a-8b809c91327c",
   "metadata": {},
   "outputs": [],
   "source": [
    "# Que-1 \n",
    "\n",
    "# Write a program to accept percentage from the user and display the grade according to the following criteria.\n",
    "\n",
    "# Marks                                   Grade\n",
    "\n",
    "# >90                                      A\n",
    "\n",
    "# >80 and <=90                             B\n",
    "\n",
    "# >=60 and <=80                            C\n",
    "\n",
    "# below 60                                 D"
   ]
  },
  {
   "cell_type": "code",
   "execution_count": 18,
   "id": "d6bc1045-63b1-4aec-9c72-e87b53f6eb16",
   "metadata": {},
   "outputs": [
    {
     "name": "stdin",
     "output_type": "stream",
     "text": [
      "Enter Your Percentage 95\n"
     ]
    },
    {
     "name": "stdout",
     "output_type": "stream",
     "text": [
      "Your Grade is A\n"
     ]
    }
   ],
   "source": [
    "# Ans-1\n",
    "\n",
    "marks = float(input(\"Enter Your Percentage\"))\n",
    "\n",
    "if marks > 90 :\n",
    "    print(\"Your Grade is A\")\n",
    "elif marks > 80 and marks <= 90 :\n",
    "    print(\"Your Grade is B\")\n",
    "elif marks >= 60 and marks <= 80 :\n",
    "    print(\"Your Grade is C\")\n",
    "elif marks < 60 :\n",
    "    print(\"Your Grade is D\")"
   ]
  },
  {
   "cell_type": "code",
   "execution_count": 35,
   "id": "261be8bd-ae2c-424c-b3c2-e49436d2bf89",
   "metadata": {},
   "outputs": [],
   "source": [
    "# Que-2 \n",
    "\n",
    "# Write a program to accept the cost price of a bike and display the road tax to be paid according to the following criteria.\n",
    "\n",
    "# Tax                                                         Cost Price(in Rs)\n",
    "\n",
    "# 15%                                                                > 100000\n",
    "\n",
    "# 10%                                                                >50000 and <= 100000\n",
    "\n",
    "# 5%                                                                 < = 50000"
   ]
  },
  {
   "cell_type": "code",
   "execution_count": 33,
   "id": "4b6822f4-1023-48e9-a4f7-a6c9b8163906",
   "metadata": {},
   "outputs": [
    {
     "name": "stdin",
     "output_type": "stream",
     "text": [
      "Enter the cost price of the bike: Rs/- 150000\n"
     ]
    },
    {
     "name": "stdout",
     "output_type": "stream",
     "text": [
      "The road tax to be paid is: Rs/- 22500.0\n"
     ]
    }
   ],
   "source": [
    "# Ans-2\n",
    "\n",
    "def road_tax(cost_price):\n",
    "    if cost_price > 100000 :\n",
    "        tax = 0.15 * cost_price\n",
    "    elif cost_price > 50000 :\n",
    "        tax = 0.1 * cost_price\n",
    "    else :\n",
    "        tax = 0.05 * cost_price\n",
    "    return tax\n",
    "\n",
    "cost_price = float(input(\"Enter the cost price of the bike: Rs/-\"))\n",
    "tax = road_tax(cost_price)\n",
    "print(\"The road tax to be paid is:\" , \"Rs/-\", tax)"
   ]
  },
  {
   "cell_type": "code",
   "execution_count": 42,
   "id": "a7aa3d41-4800-42f8-9b5f-faf2685c476b",
   "metadata": {},
   "outputs": [],
   "source": [
    "# Que-3\n",
    "\n",
    "# Accept any city from the user and display monuments of that city.\n",
    "\n",
    "# City               Monument \n",
    "# Delhi              Red Fort \n",
    "# Agra               Taj Mahal \n",
    "# Jaipur             Jal Mahal"
   ]
  },
  {
   "cell_type": "code",
   "execution_count": 43,
   "id": "c7955f89-0b96-4680-8c5a-0e62507440bc",
   "metadata": {},
   "outputs": [
    {
     "name": "stdin",
     "output_type": "stream",
     "text": [
      "Enter the name of the city:  Delhi\n"
     ]
    },
    {
     "name": "stdout",
     "output_type": "stream",
     "text": [
      "Monument in the city:  Red Fort\n"
     ]
    }
   ],
   "source": [
    "# Ans-3\n",
    "\n",
    "def monuments(city):\n",
    "    if city == \"Delhi\" :\n",
    "        return \"Red Fort\"\n",
    "    elif city == \"Agra\" :\n",
    "        return \"Taj Mahal\"\n",
    "    elif city == \"Jaipur\" :\n",
    "        return \"Jal Mahal\"\n",
    "    else :\n",
    "        return \"Monument not found for this city.\"\n",
    "\n",
    "city = input(\"Enter the name of the city: \")\n",
    "monument = monuments(city)\n",
    "print(\"Monument in the city: \", monument)"
   ]
  },
  {
   "cell_type": "code",
   "execution_count": 44,
   "id": "8a7f6165-efb6-4cf3-a38a-1e7bfc18f488",
   "metadata": {},
   "outputs": [],
   "source": [
    "# Que-4\n",
    "\n",
    "# Check how many times a given number can be divided by 3 before it is less than or equal to 10"
   ]
  },
  {
   "cell_type": "code",
   "execution_count": 48,
   "id": "3559d722-88ee-4751-b57b-36e8e8e3cff4",
   "metadata": {},
   "outputs": [
    {
     "name": "stdin",
     "output_type": "stream",
     "text": [
      "Enter a number:  999\n"
     ]
    },
    {
     "name": "stdout",
     "output_type": "stream",
     "text": [
      "The numer of times 999 can be divided by 3 before it is less than or equal to 10 is 5 times.\n"
     ]
    }
   ],
   "source": [
    "# Ans-4\n",
    "\n",
    "def divide_by_3(num):\n",
    "    count = 0\n",
    "    while num > 10:\n",
    "        num = num / 3\n",
    "        count += 1\n",
    "    return count\n",
    "\n",
    "num = int(input(\"Enter a number: \"))\n",
    "count = divide_by_3(num)\n",
    "print(\"The numer of times\" , num , \"can be divided by 3 before it is less than or equal to 10 is\" , count , \"times.\")\n"
   ]
  },
  {
   "cell_type": "code",
   "execution_count": 49,
   "id": "07045c89-13d4-4801-9f0d-da2100a9268f",
   "metadata": {},
   "outputs": [],
   "source": [
    "# Que-5\n",
    "\n",
    "# Why and When to Use while Loop in Python  give a detailed description with example"
   ]
  },
  {
   "cell_type": "code",
   "execution_count": 3,
   "id": "0af26639-6e91-4cce-934b-1ef445db9ba9",
   "metadata": {},
   "outputs": [
    {
     "name": "stdin",
     "output_type": "stream",
     "text": [
      "Enter your password:  secret\n"
     ]
    },
    {
     "name": "stdout",
     "output_type": "stream",
     "text": [
      "Access granted.\n"
     ]
    }
   ],
   "source": [
    "# Ans-5\n",
    "\n",
    "# A while loop in Python is used to repeatedly execute a block of code as long as a certain condition is met. It continues to execute the code block until the condition becomes false.\n",
    "\n",
    "# Here's the general syntax for a while loop in Python:\n",
    "\n",
    "# while condition:\n",
    "    # code block to be executed\n",
    "    # update the condition\n",
    "\n",
    "# The condition is a Boolean expression that is evaluated before each iteration of the loop. If the condition is true, the code block is executed. If the condition is false, the loop terminates and the program continues to execute the code after the loop.\n",
    "\n",
    "# An example use case of a while loop could be when you want to ask the user to enter a password until they enter the correct password:\n",
    "\n",
    "password = \"secret\"\n",
    "\n",
    "user_input = input(\"Enter your password: \")\n",
    "while user_input != password:\n",
    "    print(\"Incorrect password, try again.\")\n",
    "    user_input = input(\"Enter your password: \")\n",
    "\n",
    "print(\"Access granted.\")\n",
    "\n",
    "# In this example, the while loop continues to execute as long as the value of user_input does not equal the correct password. When the correct password is entered, the loop terminates and the program continues to execute the code after the loop.\n",
    "\n",
    "# It is important to be careful when using while loops, as they can result in infinite loops if the condition is never met. To avoid this, it is recommended to include a counter or some other mechanism that ensures that the condition will eventually become false.\n"
   ]
  },
  {
   "cell_type": "code",
   "execution_count": 4,
   "id": "f8075f40-6bd2-4920-b964-958bd9f4a3eb",
   "metadata": {},
   "outputs": [],
   "source": [
    "# Que-6\n",
    "\n",
    "# Use nested while loop to print  3 different pattern."
   ]
  },
  {
   "cell_type": "code",
   "execution_count": 6,
   "id": "44f3661a-c3ab-4c0b-b562-4baacb6d4860",
   "metadata": {},
   "outputs": [
    {
     "name": "stdin",
     "output_type": "stream",
     "text": [
      "Enter the number of rows:  5\n"
     ]
    },
    {
     "name": "stdout",
     "output_type": "stream",
     "text": [
      "*\n",
      "**\n",
      "***\n",
      "****\n",
      "*****\n"
     ]
    }
   ],
   "source": [
    "# Ans-6\n",
    "\n",
    "# Here are three examples of using nested while loops to print different patterns\n",
    "\n",
    "# 1 Printing a right-angled triangle pattern:\n",
    "\n",
    "rows = int(input(\"Enter the number of rows: \"))\n",
    "i = 1\n",
    "while i <= rows:\n",
    "    j = 1\n",
    "    while j <= i:\n",
    "        print(\"*\", end=\"\")\n",
    "        j += 1\n",
    "    print(\"\")\n",
    "    i += 1\n"
   ]
  },
  {
   "cell_type": "code",
   "execution_count": 7,
   "id": "f761c7eb-1a09-4168-bc66-f15b3d9816ab",
   "metadata": {},
   "outputs": [
    {
     "name": "stdin",
     "output_type": "stream",
     "text": [
      "Enter the number of rows:  5\n"
     ]
    },
    {
     "name": "stdout",
     "output_type": "stream",
     "text": [
      "    *\n",
      "   **\n",
      "  ***\n",
      " ****\n",
      "*****\n"
     ]
    }
   ],
   "source": [
    "# 2 Printing a pyramid pattern:\n",
    "\n",
    "rows = int(input(\"Enter the number of rows: \"))\n",
    "i = 1\n",
    "while i <= rows:\n",
    "    spaces = rows - i\n",
    "    j = 1\n",
    "    while j <= spaces:\n",
    "        print(\" \", end=\"\")\n",
    "        j += 1\n",
    "    k = 1\n",
    "    while k <= i:\n",
    "        print(\"*\", end=\"\")\n",
    "        k += 1\n",
    "    print(\"\")\n",
    "    i += 1\n"
   ]
  },
  {
   "cell_type": "code",
   "execution_count": 8,
   "id": "19325e86-4d24-4577-97fc-a1789de911a6",
   "metadata": {},
   "outputs": [
    {
     "name": "stdin",
     "output_type": "stream",
     "text": [
      "Enter the number of rows:  5\n"
     ]
    },
    {
     "name": "stdout",
     "output_type": "stream",
     "text": [
      "*****\n",
      " ****\n",
      "  ***\n",
      "   **\n",
      "    *\n"
     ]
    }
   ],
   "source": [
    "# 3 Printing an inverted pyramid pattern:\n",
    "\n",
    "rows = int(input(\"Enter the number of rows: \"))\n",
    "i = rows\n",
    "while i >= 1:\n",
    "    spaces = rows - i\n",
    "    j = 1\n",
    "    while j <= spaces:\n",
    "        print(\" \", end=\"\")\n",
    "        j += 1\n",
    "    k = 1\n",
    "    while k <= i:\n",
    "        print(\"*\", end=\"\")\n",
    "        k += 1\n",
    "    print(\"\")\n",
    "    i -= 1\n"
   ]
  },
  {
   "cell_type": "code",
   "execution_count": 9,
   "id": "16ef3ab7-b24a-4d16-ba07-e9f43f9dda5b",
   "metadata": {},
   "outputs": [],
   "source": [
    "# Que-7\n",
    "\n",
    "# Reverse a while loop to display numbers from 10 to 1"
   ]
  },
  {
   "cell_type": "code",
   "execution_count": 11,
   "id": "aae962a5-bfb1-46c1-9f96-36516f5e7cc3",
   "metadata": {},
   "outputs": [
    {
     "name": "stdout",
     "output_type": "stream",
     "text": [
      "10\n",
      "9\n",
      "8\n",
      "7\n",
      "6\n",
      "5\n",
      "4\n",
      "3\n",
      "2\n",
      "1\n"
     ]
    }
   ],
   "source": [
    "# Ans-7\n",
    "\n",
    "# Here's a Python program that uses a while loop to display numbers from 10 to 1:\n",
    "\n",
    "num = 10\n",
    "while num >= 1:\n",
    "    print(num)\n",
    "    num -= 1\n",
    "\n"
   ]
  },
  {
   "cell_type": "code",
   "execution_count": null,
   "id": "c905025d-a888-45d4-a333-b5bfe08cd04d",
   "metadata": {},
   "outputs": [],
   "source": []
  }
 ],
 "metadata": {
  "kernelspec": {
   "display_name": "Python 3 (ipykernel)",
   "language": "python",
   "name": "python3"
  },
  "language_info": {
   "codemirror_mode": {
    "name": "ipython",
    "version": 3
   },
   "file_extension": ".py",
   "mimetype": "text/x-python",
   "name": "python",
   "nbconvert_exporter": "python",
   "pygments_lexer": "ipython3",
   "version": "3.10.8"
  }
 },
 "nbformat": 4,
 "nbformat_minor": 5
}
