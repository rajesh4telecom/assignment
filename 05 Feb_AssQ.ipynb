{
 "cells": [
  {
   "cell_type": "code",
   "execution_count": 1,
   "id": "1d3801de-0511-432a-a82f-667f140c2797",
   "metadata": {},
   "outputs": [],
   "source": [
    "# Q-1\n",
    "\n",
    "# Explain Class and Object with respect to Object-Oriented Programming. Give a suitable example."
   ]
  },
  {
   "cell_type": "code",
   "execution_count": 2,
   "id": "bfbdd6f7-1b55-46a0-81f2-31045fccfed0",
   "metadata": {},
   "outputs": [
    {
     "name": "stdout",
     "output_type": "stream",
     "text": [
      "Make: Honda\n",
      "Model: Civic\n",
      "Color: Red\n",
      "Year: 2019\n",
      "Honda Civic started\n",
      "Honda Civic is accelerating\n",
      "Honda Civic stopped\n"
     ]
    }
   ],
   "source": [
    "# A-1\n",
    "\n",
    "# Class: In Object-Oriented Programming, a class is a blueprint or a template for creating objects. It defines a set of properties (also known as attributes or fields) and behaviors (also known as methods or functions) that the objects created from the class will have. A class is like a blueprint that defines the structure of the object it creates.\n",
    "\n",
    "# Object: An object is an instance of a class and is created using the class as a blueprint. An object contains data (attributes or fields) and behavior (methods or functions) that define the properties of the object. Each object created from a class is unique and has its own properties and behaviors.\n",
    "\n",
    "# Example:\n",
    "# Consider a class \"Car\". A car class could have properties like make, model, color, and year and behaviors like start, stop, and accelerate. An object created from the Car class could be a specific car, such as a Honda Civic with a red color and a year of 2019.\n",
    "\n",
    "class Car:\n",
    "    def __init__(self, make, model, color, year):\n",
    "        self.make = make\n",
    "        self.model = model\n",
    "        self.color = color\n",
    "        self.year = year\n",
    "\n",
    "    def start(self):\n",
    "        print(f\"{self.make} {self.model} started\")\n",
    "    \n",
    "    def stop(self):\n",
    "        print(f\"{self.make} {self.model} stopped\")\n",
    "    \n",
    "    def accelerate(self):\n",
    "        print(f\"{self.make} {self.model} is accelerating\")\n",
    "\n",
    "honda_civic = Car(\"Honda\", \"Civic\", \"Red\", 2019)\n",
    "print(f\"Make: {honda_civic.make}\")\n",
    "print(f\"Model: {honda_civic.model}\")\n",
    "print(f\"Color: {honda_civic.color}\")\n",
    "print(f\"Year: {honda_civic.year}\")\n",
    "honda_civic.start()\n",
    "honda_civic.accelerate()\n",
    "honda_civic.stop()\n"
   ]
  },
  {
   "cell_type": "code",
   "execution_count": 3,
   "id": "7c6b5d7a-a1b8-4285-b439-3342db78aff0",
   "metadata": {},
   "outputs": [],
   "source": [
    "# Q-2\n",
    "\n",
    "# Name the four pillars of OOPs."
   ]
  },
  {
   "cell_type": "code",
   "execution_count": 5,
   "id": "4292bcec-0273-4ea7-a0c3-979e553750fb",
   "metadata": {},
   "outputs": [],
   "source": [
    "# A-2\n",
    "\n",
    "# The four pillars of Object-Oriented Programming (OOP) are:\n",
    "\n",
    "# Encapsulation\n",
    "# Abstraction\n",
    "# Inheritance\n",
    "# Polymorphism"
   ]
  },
  {
   "cell_type": "code",
   "execution_count": 6,
   "id": "fda30e47-9a55-47e2-acfd-4f676366887d",
   "metadata": {},
   "outputs": [],
   "source": [
    "# Q-3\n",
    "\n",
    "# Explain why the __init__() function is used. Give a suitable example."
   ]
  },
  {
   "cell_type": "code",
   "execution_count": 10,
   "id": "60596e06-550d-4bec-83c3-6a4b205671c5",
   "metadata": {},
   "outputs": [
    {
     "name": "stdout",
     "output_type": "stream",
     "text": [
      "Name: John\n",
      "Age: 30\n"
     ]
    }
   ],
   "source": [
    "# A-3\n",
    "\n",
    "# The __init__() function is a special method in Python classes. It is automatically called when an object of the class is created, and it is used to initialize the attributes of the class. The __init__() function is also known as the constructor of the class.\n",
    "\n",
    "# The syntax for defining the __init__() function is:\n",
    "\n",
    "\"\"\"def __init__(self, [parameters]):\n",
    "    [function body]\"\"\"\n",
    "\n",
    "# where self is a reference to the current object, and the parameters are the values that are passed when the object is created. The values passed as parameters can be used to initialize the attributes of the class.\n",
    "\n",
    "# Example:\n",
    "# Consider a class \"Person\" with attributes name and age. We can use the __init__() function to initialize the attributes when a new object of the class is created.\n",
    "\n",
    "class Person:\n",
    "    def __init__(self, name, age):\n",
    "        self.name = name\n",
    "        self.age = age\n",
    "\n",
    "person = Person(\"John\", 30)\n",
    "print(f\"Name: {person.name}\")\n",
    "print(f\"Age: {person.age}\")\n",
    "\n",
    "# In this example, the __init__() function is called when the Person object is created and initializes the name and age attributes with the values passed as parameters.\n",
    "\n",
    "\n"
   ]
  },
  {
   "cell_type": "code",
   "execution_count": 11,
   "id": "8f60b3d2-ebcb-45c6-a549-373647c295a7",
   "metadata": {},
   "outputs": [],
   "source": [
    "# Q-4 \n",
    "\n",
    "# Why self is used in OOPs?"
   ]
  },
  {
   "cell_type": "code",
   "execution_count": 13,
   "id": "ce2a8031-f09c-4fb4-89a1-390d0946146b",
   "metadata": {},
   "outputs": [
    {
     "name": "stdout",
     "output_type": "stream",
     "text": [
      "Hello, I am John\n",
      "Hello, I am Jane\n"
     ]
    }
   ],
   "source": [
    "# A-4\n",
    "\n",
    "# In Object-Oriented Programming (OOP), self is a reference to the current object. It is used to access the attributes and methods of the class from within the class. The self keyword is automatically passed to the methods of a class when they are called, and it refers to the object for which the method was called.\n",
    "\n",
    "# The use of self allows each object of the class to have its own set of attributes and behaviors. This way, each object can have its own unique state, even if it was created from the same class.\n",
    "\n",
    "# For example, consider a class \"Person\" with a name attribute. To access the name attribute from within the class, we use self.name.\n",
    "\n",
    "class Person:\n",
    "    def __init__(self, name):\n",
    "        self.name = name\n",
    "    \n",
    "    def greet(self):\n",
    "        print(f\"Hello, I am {self.name}\")\n",
    "\n",
    "person1 = Person(\"John\")\n",
    "person2 = Person(\"Jane\")\n",
    "person1.greet()\n",
    "person2.greet()\n",
    "\n",
    "\n",
    "# In this example, the greet() method uses self.name to access the name attribute of the class. The greet() method is called on two separate objects, person1 and person2, and each object has its own unique name attribute, so the output is different for each object.\n",
    "\n"
   ]
  },
  {
   "cell_type": "code",
   "execution_count": 14,
   "id": "13fad27a-03d6-48ea-a420-c4b58e8716c4",
   "metadata": {},
   "outputs": [],
   "source": [
    "# Q-5 \n",
    "\n",
    "# What is inheritance? Give an example for each type of inheritance."
   ]
  },
  {
   "cell_type": "code",
   "execution_count": 15,
   "id": "4b5aa621-cd81-4ae3-91d3-67e4507c4bdc",
   "metadata": {},
   "outputs": [
    {
     "name": "stdout",
     "output_type": "stream",
     "text": [
      "I am a Dog\n",
      "I am a Labrador\n"
     ]
    }
   ],
   "source": [
    "# # A-5\n",
    "\n",
    "# Inheritance is a mechanism in Object-Oriented Programming (OOP) that allows a new class to inherit the properties and methods of an existing class. This way, the new class can reuse, extend or modify the attributes and behaviors of the existing class.\n",
    "\n",
    "# There are several types of inheritance in OOP, including:\n",
    "\n",
    "# Single Inheritance: A class inherits properties and methods from a single base class.\n",
    "# Example:\n",
    "\n",
    "class Animal:\n",
    "    def __init__(self, species):\n",
    "        self.species = species\n",
    "    \n",
    "    def show_species(self):\n",
    "        print(f\"I am a {self.species}\")\n",
    "\n",
    "class Dog(Animal):\n",
    "    def __init__(self, breed, species=\"Dog\"):\n",
    "        super().__init__(species)\n",
    "        self.breed = breed\n",
    "    \n",
    "    def show_breed(self):\n",
    "        print(f\"I am a {self.breed}\")\n",
    "\n",
    "dog = Dog(\"Labrador\")\n",
    "dog.show_species()\n",
    "dog.show_breed()\n",
    "\n",
    "# In this example, the Dog class inherits from the Animal class, so it can reuse the show_species method. The Dog class also has its own show_breed method, which is specific to the Dog class.\n"
   ]
  },
  {
   "cell_type": "code",
   "execution_count": 16,
   "id": "4d2d0c4f-9fbf-41fe-9e77-8aa93c4762d4",
   "metadata": {},
   "outputs": [
    {
     "name": "stdout",
     "output_type": "stream",
     "text": [
      "I am a Toyota Camry\n",
      "I have 200 horsepower\n",
      "I have 4 wheels\n"
     ]
    }
   ],
   "source": [
    "# Multiple Inheritance: A class inherits properties and methods from multiple base classes.\n",
    "\n",
    "# Example:\n",
    "\n",
    "\n",
    "class Engine:\n",
    "    def __init__(self, horsepower):\n",
    "        self.horsepower = horsepower\n",
    "    \n",
    "    def show_horsepower(self):\n",
    "        print(f\"I have {self.horsepower} horsepower\")\n",
    "\n",
    "class Wheels:\n",
    "    def __init__(self, num_wheels):\n",
    "        self.num_wheels = num_wheels\n",
    "    \n",
    "    def show_num_wheels(self):\n",
    "        print(f\"I have {self.num_wheels} wheels\")\n",
    "\n",
    "class Car(Engine, Wheels):\n",
    "    def __init__(self, make, model, horsepower, num_wheels):\n",
    "        Engine.__init__(self, horsepower)\n",
    "        Wheels.__init__(self, num_wheels)\n",
    "        self.make = make\n",
    "        self.model = model\n",
    "    \n",
    "    def show_make_model(self):\n",
    "        print(f\"I am a {self.make} {self.model}\")\n",
    "\n",
    "car = Car(\"Toyota\", \"Camry\", 200, 4)\n",
    "car.show_make_model()\n",
    "car.show_horsepower()\n",
    "car.show_num_wheels()\n",
    "\n",
    "# In this example, the Car class inherits from both the Engine and Wheels classes, so it can reuse the show_horsepower and show_num_wheels methods.\n",
    "\n",
    "\n"
   ]
  }
 ],
 "metadata": {
  "kernelspec": {
   "display_name": "Python 3 (ipykernel)",
   "language": "python",
   "name": "python3"
  },
  "language_info": {
   "codemirror_mode": {
    "name": "ipython",
    "version": 3
   },
   "file_extension": ".py",
   "mimetype": "text/x-python",
   "name": "python",
   "nbconvert_exporter": "python",
   "pygments_lexer": "ipython3",
   "version": "3.10.8"
  }
 },
 "nbformat": 4,
 "nbformat_minor": 5
}
