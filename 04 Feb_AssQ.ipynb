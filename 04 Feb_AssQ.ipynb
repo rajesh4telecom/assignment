{
 "cells": [
  {
   "cell_type": "code",
   "execution_count": 13,
   "id": "4b57848b-4bd0-4ebc-8cf4-a36b7bbbc8af",
   "metadata": {},
   "outputs": [],
   "source": [
    "# Q-1\n",
    "\n",
    "# Create a python program to sort the given list of tuples based on integer value using a lambda function.\n",
    "\n",
    "# [('Sachin Tendulkar', 34357), ('Ricky Ponting', 27483), ('Jack Kallis', 25534), ('Virat Kohli', 24936)]\n"
   ]
  },
  {
   "cell_type": "code",
   "execution_count": 15,
   "id": "c2ab073b-cf08-4cbb-b6a7-9c4891dedd03",
   "metadata": {},
   "outputs": [
    {
     "name": "stdout",
     "output_type": "stream",
     "text": [
      "[('Virat Kohli', 24936), ('Jack Kallis', 25534), ('Ricky Ponting', 27483), ('Sachin Tendulkar', 34357)]\n"
     ]
    }
   ],
   "source": [
    "# A-1\n",
    "\n",
    "# Here is a program that sorts the list of tuples based on the integer value using a lambda function:\n",
    "\n",
    "l = [('Sachin Tendulkar', 34357), ('Ricky Ponting', 27483), ('Jack Kallis', 25534), ('Virat Kohli', 24936)]\n",
    "\n",
    "l.sort(key=lambda x : x[1])\n",
    "print(l)"
   ]
  },
  {
   "cell_type": "code",
   "execution_count": 16,
   "id": "b656eef4-0135-438d-b415-492843be9c50",
   "metadata": {},
   "outputs": [],
   "source": [
    "# Q-2\n",
    "\n",
    "# Write a Python Program to find the squares of all the numbers in the given list of integers using lambda and map functions.\n",
    "# [1, 2, 3, 4, 5, 6, 7, 8, 9, 10]"
   ]
  },
  {
   "cell_type": "code",
   "execution_count": 17,
   "id": "9bf65732-ea35-480c-ac24-1a689ad29d5d",
   "metadata": {},
   "outputs": [
    {
     "name": "stdout",
     "output_type": "stream",
     "text": [
      "[1, 4, 9, 16, 25, 36, 49, 64, 81, 100]\n"
     ]
    }
   ],
   "source": [
    "# A-2\n",
    "\n",
    "# Here is a program that uses the map and lambda functions to find the squares of all the numbers in a list of integers:\n",
    "\n",
    "l1 = [1, 2, 3, 4, 5, 6, 7, 8, 9, 10]\n",
    "sq_num = list(map(lambda x : x**2 , l1))\n",
    "print(sq_num)"
   ]
  },
  {
   "cell_type": "code",
   "execution_count": 18,
   "id": "17bc079a-29eb-492c-8344-415e04ad98b1",
   "metadata": {},
   "outputs": [],
   "source": [
    "# Q-3\n",
    "# Write a python program to convert the given list of integers into a tuple of strings. Use map and lambda functions \n",
    "# Given String: [1, 2, 3, 4, 5, 6, 7, 8, 9, 10]\n",
    "# Expected output: ('1', '2', '3', '4', '5', '6', '7', '8', '9', '10')"
   ]
  },
  {
   "cell_type": "code",
   "execution_count": 20,
   "id": "dacb5918-02c5-41da-95d3-529b51d3ef25",
   "metadata": {},
   "outputs": [
    {
     "name": "stdout",
     "output_type": "stream",
     "text": [
      "('1', '2', '3', '4', '5', '6', '7', '8', '9', '10')\n"
     ]
    }
   ],
   "source": [
    "# A-3\n",
    "\n",
    "# Here is a program that uses the map and lambda functions to convert a list of integers into a tuple of strings:\n",
    "\n",
    "l3 = [1, 2, 3, 4, 5, 6, 7, 8, 9, 10]\n",
    "str_tup = tuple(map(lambda x : str(x), l3))\n",
    "print(str_tup)"
   ]
  },
  {
   "cell_type": "code",
   "execution_count": 27,
   "id": "15e62308-b076-4fa7-973d-75b0096b26fc",
   "metadata": {},
   "outputs": [],
   "source": [
    "# Q-4\n",
    "# Write a python program using reduce function to compute the product of a list containing numbers from 1 to 25."
   ]
  },
  {
   "cell_type": "code",
   "execution_count": 28,
   "id": "d3aed1f0-5cda-465a-b6e0-37faf3bf2bc4",
   "metadata": {},
   "outputs": [
    {
     "name": "stdout",
     "output_type": "stream",
     "text": [
      "15511210043330985984000000\n"
     ]
    }
   ],
   "source": [
    "# A-4\n",
    "\n",
    "# Here is a program that uses the reduce function from the functools module to compute the product of a list containing numbers from 1 to 25:\n",
    "\n",
    "from functools import reduce\n",
    "import operator\n",
    "\n",
    "numbers = [i for i in range(1, 26)]\n",
    "product = reduce(operator.mul, numbers)\n",
    "print(product)"
   ]
  },
  {
   "cell_type": "code",
   "execution_count": 29,
   "id": "76fe138e-b451-4185-be7a-01a5fd2e3d3e",
   "metadata": {},
   "outputs": [],
   "source": [
    "# Q-5\n",
    "\n",
    "# Write a python program to filter the numbers in a given list that are divisible by 2 and 3 using the filter function.\n",
    "\n",
    "# [2, 3, 6, 9, 27, 60, 90, 120, 55, 46]"
   ]
  },
  {
   "cell_type": "code",
   "execution_count": 30,
   "id": "f796f588-a133-43cd-b101-9070fdba7ec1",
   "metadata": {},
   "outputs": [
    {
     "name": "stdout",
     "output_type": "stream",
     "text": [
      "[6, 60, 90, 120]\n"
     ]
    }
   ],
   "source": [
    "# A-5\n",
    "\n",
    "# Here is a program that uses the filter function to filter the numbers in a given list that are divisible by 2 and 3:\n",
    "\n",
    "l5 = [2, 3, 6, 9, 27, 60, 90, 120, 55, 46]\n",
    "fil_num = list(filter(lambda x : x % 2 == 0 and x % 3 == 0, l5))\n",
    "print(fil_num)"
   ]
  },
  {
   "cell_type": "code",
   "execution_count": 31,
   "id": "d307eaf4-7f1a-495b-96ab-7bd96bb3406d",
   "metadata": {},
   "outputs": [],
   "source": [
    "# Q-6\n",
    "\n",
    "# Write a python program to find palindromes in the given list of strings using lambda and filter function.\n",
    "# ['python', 'php', 'aba', 'radar', 'level']"
   ]
  },
  {
   "cell_type": "code",
   "execution_count": 32,
   "id": "034ea232-d4c5-43f7-bf1e-4b47d77a7cd0",
   "metadata": {},
   "outputs": [
    {
     "name": "stdout",
     "output_type": "stream",
     "text": [
      "['php', 'aba', 'radar', 'level']\n"
     ]
    }
   ],
   "source": [
    "# A-6\n",
    "\n",
    "# Here is a program that uses the filter function and a lambda function to find palindromes in a given list of strings:\n",
    "\n",
    "s = ['python', 'php', 'aba', 'radar', 'level']\n",
    "p = list(filter(lambda x : x == x[::-1], s))\n",
    "print(p)"
   ]
  },
  {
   "cell_type": "code",
   "execution_count": null,
   "id": "202a02a5-f7e3-4905-8e9d-3bdce3df2c6c",
   "metadata": {},
   "outputs": [],
   "source": []
  }
 ],
 "metadata": {
  "kernelspec": {
   "display_name": "Python 3 (ipykernel)",
   "language": "python",
   "name": "python3"
  },
  "language_info": {
   "codemirror_mode": {
    "name": "ipython",
    "version": 3
   },
   "file_extension": ".py",
   "mimetype": "text/x-python",
   "name": "python",
   "nbconvert_exporter": "python",
   "pygments_lexer": "ipython3",
   "version": "3.10.8"
  }
 },
 "nbformat": 4,
 "nbformat_minor": 5
}
