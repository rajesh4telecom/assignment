{
 "cells": [
  {
   "cell_type": "code",
   "execution_count": 1,
   "id": "f6370598-6a36-4218-9128-57cd835844e2",
   "metadata": {},
   "outputs": [],
   "source": [
    "# Q1. What is Abstraction in OOps? Explain with an example."
   ]
  },
  {
   "cell_type": "code",
   "execution_count": 9,
   "id": "af45ad1e-cf79-41db-b0db-491bf1a340ec",
   "metadata": {},
   "outputs": [
    {
     "name": "stdout",
     "output_type": "stream",
     "text": [
      "Toyota Camry has started.\n",
      "Toyota Camry is now driving.\n",
      "Toyota Camry has stopped.\n"
     ]
    }
   ],
   "source": [
    "# A1\n",
    "\n",
    "# Abstraction is a fundamental concept in object-oriented programming (OOP) that refers to the process of hiding the implementation details of a class and exposing only the essential features to the user. The purpose of abstraction is to simplify the use of complex systems by presenting a simplified interface to the user.\n",
    "\n",
    "class Car:\n",
    "    def __init__(self, make, model):\n",
    "        self.make = make\n",
    "        self.model = model\n",
    "        \n",
    "    def start(self):\n",
    "        print(f\"{self.make} {self.model} has started.\")\n",
    "        \n",
    "    def drive(self):\n",
    "        print(f\"{self.make} {self.model} is now driving.\")\n",
    "        \n",
    "    def stop(self):\n",
    "        print(f\"{self.make} {self.model} has stopped.\")\n",
    "\n",
    "# Create a Car object\n",
    "my_car = Car(\"Toyota\", \"Camry\")\n",
    "\n",
    "# Use the abstracted interface to drive the car\n",
    "my_car.start()\n",
    "my_car.drive()\n",
    "my_car.stop()\n"
   ]
  },
  {
   "cell_type": "code",
   "execution_count": 10,
   "id": "160bd6b9-5fd8-43f4-b275-0c8cd8c4dc15",
   "metadata": {},
   "outputs": [],
   "source": [
    "# Q2. Differentiate between Abstraction and Encapsulation. Explain with an example."
   ]
  },
  {
   "cell_type": "code",
   "execution_count": 11,
   "id": "898ee33c-0112-47c6-b127-b7e27f61e48d",
   "metadata": {},
   "outputs": [
    {
     "name": "stdout",
     "output_type": "stream",
     "text": [
      "Account owner: Rajesh Moharana\n",
      "Current balance: 1000\n",
      "Current balance: 1000\n"
     ]
    }
   ],
   "source": [
    "# A2\n",
    "\n",
    "# Abstraction and encapsulation are two related concepts in object-oriented programming (OOP) that are often used together.\n",
    "\n",
    "# Abstraction refers to the process of hiding the implementation details of a class and exposing only the essential features to the user. It provides a simplified view of the class and makes it easier to use.\n",
    "\n",
    "# Encapsulation, on the other hand, refers to the process of wrapping data and functions within a single unit, or object. This helps to prevent code and data from being directly accessed and modified by other parts of the program, leading to a more modular and maintainable design.\n",
    "\n",
    "class BankAccount:\n",
    "    def __init__(self, name, balance):\n",
    "        self.__name = name\n",
    "        self.__balance = balance\n",
    "        \n",
    "    def deposit(self, amount):\n",
    "        self.__balance += amount\n",
    "        \n",
    "    def withdraw(self, amount):\n",
    "        if self.__balance >= amount:\n",
    "            self.__balance -= amount\n",
    "        else:\n",
    "            print(\"Insufficient funds.\")\n",
    "            \n",
    "    def get_balance(self):\n",
    "        return self.__balance\n",
    "    \n",
    "    def get_name(self):\n",
    "        return self.__name\n",
    "\n",
    "# Create a BankAccount object\n",
    "account = BankAccount(\"Rajesh Moharana\", 1000)\n",
    "\n",
    "# Use the abstracted interface to access the account information\n",
    "print(f\"Account owner: {account.get_name()}\")\n",
    "print(f\"Current balance: {account.get_balance()}\")\n",
    "\n",
    "# Use the encapsulation to protect the account information\n",
    "account.__balance = 500 # This line will have no effect\n",
    "print(f\"Current balance: {account.get_balance()}\")\n"
   ]
  },
  {
   "cell_type": "code",
   "execution_count": 12,
   "id": "1d6a5056-489c-4e34-837b-ab898c43dbcb",
   "metadata": {},
   "outputs": [],
   "source": [
    "# Q3. What is abc module in python? Why is it used?"
   ]
  },
  {
   "cell_type": "code",
   "execution_count": 15,
   "id": "26eec99a-6062-41bc-9124-84eae4eeefa8",
   "metadata": {},
   "outputs": [],
   "source": [
    "# A3\n",
    "\n",
    "# The abc (Abstract Base Class) module in Python is a module that provides support for defining abstract base classes. An abstract base class is a class that cannot be instantiated, but provides a common interface for its subclasses. Subclasses of an abstract base class must implement the abstract methods defined in the abstract base class, and may also provide additional implementations.\n",
    "\n",
    "# The abc module provides the ABC class, which can be used as a base class for defining abstract base classes. The ABC class provides methods for marking methods as abstract and for registering concrete classes as implementations of an abstract base class.\n",
    "\n",
    "# The abc module is used to define abstract base classes in Python because it provides a clear way to specify the expected behavior of a class hierarchy. By using abstract base classes, you can enforce that subclasses implement specific methods and provide a consistent interface to the users of those classes. This can make it easier to design, implement, and maintain complex systems, and can also help to catch errors early in the development process.\n",
    "\n",
    "import abc\n",
    "\n",
    "class Shape(abc.ABC):\n",
    "    @abc.abstractmethod\n",
    "    def area(self):\n",
    "        pass\n",
    "    \n",
    "    @abc.abstractmethod\n",
    "    def perimeter(self):\n",
    "        pass\n",
    "\n",
    "class Square(Shape):\n",
    "    def __init__(self, side_length):\n",
    "        self.side_length = side_length\n",
    "        \n",
    "    def area(self):\n",
    "        return self.side_length ** 2\n",
    "    \n",
    "    def perimeter(self):\n",
    "        return self.side_length * 4\n"
   ]
  },
  {
   "cell_type": "code",
   "execution_count": 16,
   "id": "cbc6606a-9fda-4994-9c47-aeda7f6eb308",
   "metadata": {},
   "outputs": [],
   "source": [
    "# Q4. How can we achieve data abstraction?\n"
   ]
  },
  {
   "cell_type": "code",
   "execution_count": 17,
   "id": "2e34c7cb-d8cd-457f-b3df-d8c5d3142f01",
   "metadata": {},
   "outputs": [],
   "source": [
    "# A4\n",
    "\n",
    "# Data abstraction is the process of hiding the implementation details of a class or object and exposing only the essential features to the user. There are several ways to achieve data abstraction in object-oriented programming:\n",
    "\n",
    "# Encapsulation: Encapsulation is the process of wrapping data and functions within a single unit, or object. By encapsulating data within an object, it can be protected from direct access and modification, leading to a more modular and maintainable design.\n",
    "\n",
    "# Access Modifiers: Access modifiers, such as private, protected, and public, can be used to control the visibility of class attributes and methods. For example, data attributes can be marked as private to prevent direct access from outside the class, while public methods can be used to provide a simplified interface to the data.\n",
    "\n",
    "# Abstract Base Classes: An abstract base class is a class that cannot be instantiated, but provides a common interface for its subclasses. Subclasses of an abstract base class must implement the abstract methods defined in the abstract base class, and may also provide additional implementations. This can provide a clear way to specify the expected behavior of a class hierarchy, and help to enforce a consistent interface.\n",
    "\n",
    "# Interfaces: An interface is a collection of abstract methods that a class must implement. By using an interface, you can specify the methods that a class must have, but leave the implementation details up to the individual class. This can provide a clear way to define the expected behavior of a class, without having to specify the implementation details.\n",
    "\n",
    "# By using these techniques, you can achieve data abstraction in your code and provide a simplified interface to the users of your classes. This can make it easier to design, implement, and maintain complex systems, and can also help to catch errors early in the development process.\n"
   ]
  },
  {
   "cell_type": "code",
   "execution_count": 18,
   "id": "4a50fb4a-8a08-4cc1-a966-62f9495892e6",
   "metadata": {},
   "outputs": [],
   "source": [
    "# Q5. Can we create an instance of an abstract class? Explain your answer."
   ]
  },
  {
   "cell_type": "code",
   "execution_count": 19,
   "id": "a3cfa36d-86de-43e9-86ba-7beb3fea39f7",
   "metadata": {},
   "outputs": [],
   "source": [
    "# A5\n",
    "\n",
    "# The purpose of an abstract class is to define a common interface that its subclasses must implement, and not to be instantiated directly.\n",
    "\n",
    "# In order to use an abstract class, you must define a concrete subclass that implements the abstract methods defined in the abstract base class. The concrete subclass can then be instantiated, and will inherit the abstract methods from the abstract base class.\n",
    "\n",
    "# For example, in Python, you can use the abc module to define an abstract base class:\n",
    "\n",
    "import abc\n",
    "\n",
    "class Shape(abc.ABC):\n",
    "    @abc.abstractmethod\n",
    "    def area(self):\n",
    "        pass\n",
    "    \n",
    "    @abc.abstractmethod\n",
    "    def perimeter(self):\n",
    "        pass\n",
    "\n",
    "class Square(Shape):\n",
    "    def __init__(self, side_length):\n",
    "        self.side_length = side_length\n",
    "        \n",
    "    def area(self):\n",
    "        return self.side_length ** 2\n",
    "    \n",
    "    def perimeter(self):\n",
    "        return self.side_length * 4\n",
    "\n",
    "    # In this example, the Shape class is defined as an abstract base class using the abc module, and the Square class is a concrete implementation of the Shape abstract base class. You cannot create an instance of the Shape class directly, but you can create an instance of the Square class:\n",
    "    \n",
    "    "
   ]
  },
  {
   "cell_type": "code",
   "execution_count": null,
   "id": "16fbf456-a6fd-4b12-9475-0bafe86db08f",
   "metadata": {},
   "outputs": [],
   "source": []
  }
 ],
 "metadata": {
  "kernelspec": {
   "display_name": "Python 3 (ipykernel)",
   "language": "python",
   "name": "python3"
  },
  "language_info": {
   "codemirror_mode": {
    "name": "ipython",
    "version": 3
   },
   "file_extension": ".py",
   "mimetype": "text/x-python",
   "name": "python",
   "nbconvert_exporter": "python",
   "pygments_lexer": "ipython3",
   "version": "3.10.8"
  }
 },
 "nbformat": 4,
 "nbformat_minor": 5
}
