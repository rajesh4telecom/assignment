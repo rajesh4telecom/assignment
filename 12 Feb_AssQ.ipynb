{
 "cells": [
  {
   "cell_type": "code",
   "execution_count": 2,
   "id": "ffd8fe11-56a3-4624-a1f3-17307b6bd993",
   "metadata": {},
   "outputs": [],
   "source": [
    "# Q1.\n",
    "\n",
    "# What is an Exception in python? Write the difference Between Exceptions and Syntax errors."
   ]
  },
  {
   "cell_type": "code",
   "execution_count": 3,
   "id": "becd6bcc-0da0-41e8-8dce-dd7b2783f856",
   "metadata": {},
   "outputs": [],
   "source": [
    "# A1\n",
    "\n",
    "# In Python, an exception is an event that interrupts the normal flow of program execution. When an error occurs during the execution of a Python program, an exception is raised which can be handled by the program.\n",
    "\n",
    "# Exceptions can occur due to various reasons such as runtime errors, input/output errors, arithmetic errors, and so on. When an exception occurs, Python interpreter looks for a corresponding exception handler in the program, and if it finds one, it executes it. If no exception handler is found, the program terminates and displays the exception message.\n",
    "\n",
    "# On the other hand, syntax errors are errors that occur during the parsing of the Python code. These errors occur when the code does not follow the correct syntax or grammar rules of the Python language. Syntax errors prevent the program from executing and must be fixed before the program can be run.\n",
    "\n",
    "# The main differences between exceptions and syntax errors are:\n",
    "\n",
    "# Cause: Exceptions are caused by runtime errors, while syntax errors are caused by errors in the code syntax.\n",
    "\n",
    "# Timing: Exceptions occur during the execution of a program, while syntax errors occur before the program is executed.\n",
    "\n",
    "# Handling: Exceptions can be handled using try-except statements, while syntax errors must be fixed by correcting the code.\n",
    "\n",
    "# Impact: Exceptions can be handled gracefully by the program, while syntax errors prevent the program from running at all."
   ]
  },
  {
   "cell_type": "code",
   "execution_count": 4,
   "id": "422a2e0a-8436-4e08-b6fd-d47e1ac9d57b",
   "metadata": {},
   "outputs": [],
   "source": [
    "# Q2. \n",
    "\n",
    "# What happens when an exception is not handled? Explain with an example."
   ]
  },
  {
   "cell_type": "code",
   "execution_count": 5,
   "id": "befaaa5e-7d78-428e-87dc-2600b4ce3931",
   "metadata": {},
   "outputs": [
    {
     "ename": "ZeroDivisionError",
     "evalue": "division by zero",
     "output_type": "error",
     "traceback": [
      "\u001b[0;31m---------------------------------------------------------------------------\u001b[0m",
      "\u001b[0;31mZeroDivisionError\u001b[0m                         Traceback (most recent call last)",
      "Cell \u001b[0;32mIn[5], line 10\u001b[0m\n\u001b[1;32m      8\u001b[0m a \u001b[38;5;241m=\u001b[39m \u001b[38;5;241m10\u001b[39m\n\u001b[1;32m      9\u001b[0m b \u001b[38;5;241m=\u001b[39m \u001b[38;5;241m0\u001b[39m\n\u001b[0;32m---> 10\u001b[0m c \u001b[38;5;241m=\u001b[39m \u001b[43ma\u001b[49m\u001b[43m \u001b[49m\u001b[38;5;241;43m/\u001b[39;49m\u001b[43m \u001b[49m\u001b[43mb\u001b[49m\n\u001b[1;32m     11\u001b[0m \u001b[38;5;28mprint\u001b[39m(c)\n",
      "\u001b[0;31mZeroDivisionError\u001b[0m: division by zero"
     ]
    }
   ],
   "source": [
    "# A1\n",
    "\n",
    "# When an exception is not handled in a Python program, the program terminates abruptly and displays an error message indicating the type of exception that occurred and the line number where it occurred. This can be problematic as it leaves the program in an unpredictable state and can result in data loss or other issues.\n",
    "\n",
    "# Here's an example to illustrate what happens when an exception is not handled:\n",
    "\n",
    "# Divide by zero error example\n",
    "a = 10\n",
    "b = 0\n",
    "c = a / b\n",
    "print(c)\n"
   ]
  },
  {
   "cell_type": "code",
   "execution_count": 6,
   "id": "d52a03c0-304f-45ce-a136-9d59fe332651",
   "metadata": {},
   "outputs": [],
   "source": [
    "# Q3. \n",
    "\n",
    "# Which Python statements are used to catch and handle exceptions? Explain with an example."
   ]
  },
  {
   "cell_type": "code",
   "execution_count": 9,
   "id": "bf268ba1-7aa5-4fd4-9e59-ed96658ab1d9",
   "metadata": {},
   "outputs": [
    {
     "name": "stdin",
     "output_type": "stream",
     "text": [
      "Please enter a number:  0\n"
     ]
    },
    {
     "name": "stdout",
     "output_type": "stream",
     "text": [
      "Cannot divide by zero.\n"
     ]
    }
   ],
   "source": [
    "# A3\n",
    "\n",
    "# In Python, you can use try and except statements to catch and handle exceptions. The try statement is used to enclose the code that might raise an exception, and the except statement is used to specify what to do when an exception is caught.\n",
    "\n",
    "# Here is an example that demonstrates the use of try and except statements:\n",
    "\n",
    "try:\n",
    "    x = int(input(\"Please enter a number: \"))\n",
    "    y = 10 / x\n",
    "    print(\"The result is:\", y)\n",
    "except ValueError:\n",
    "    print(\"Invalid input. Please enter a number.\")\n",
    "except ZeroDivisionError:\n",
    "    print(\"Cannot divide by zero.\")\n"
   ]
  },
  {
   "cell_type": "code",
   "execution_count": 11,
   "id": "6d14305c-74cf-48e2-8640-2a1b8d74e1d4",
   "metadata": {},
   "outputs": [],
   "source": [
    "# Q4. \n",
    "\n",
    "# Explain with an example:\n",
    "\n",
    "# a. try and else\n",
    "# b. finally\n",
    "# c. raise"
   ]
  },
  {
   "cell_type": "code",
   "execution_count": 14,
   "id": "11b9a618-a7d7-4070-8bc5-f9e8900c8db0",
   "metadata": {},
   "outputs": [
    {
     "name": "stdin",
     "output_type": "stream",
     "text": [
      "Please enter a number:  4\n"
     ]
    },
    {
     "name": "stdout",
     "output_type": "stream",
     "text": [
      "The result is: 2.5\n"
     ]
    }
   ],
   "source": [
    "# A4\n",
    "\n",
    "# a. try and else:\n",
    "# In Python, you can use else statement in conjunction with try and except statements to specify a block of code to be executed if no exception is raised in the try block.\n",
    "\n",
    "# Here's an example:\n",
    "\n",
    "try:\n",
    "    x = int(input(\"Please enter a number: \"))\n",
    "    y = 10 / x\n",
    "except ValueError:\n",
    "    print(\"Invalid input. Please enter a number.\")\n",
    "else:\n",
    "    print(\"The result is:\", y)\n"
   ]
  },
  {
   "cell_type": "code",
   "execution_count": 15,
   "id": "8db6b401-2971-402c-a3be-729176b79514",
   "metadata": {},
   "outputs": [
    {
     "name": "stdin",
     "output_type": "stream",
     "text": [
      "Please enter a number:  5\n"
     ]
    },
    {
     "name": "stdout",
     "output_type": "stream",
     "text": [
      "The result is: 2.0\n",
      "This code is always executed.\n"
     ]
    }
   ],
   "source": [
    "# b. finally:\n",
    "# In Python, you can use the finally statement in conjunction with try and except statements to specify a block of code that will be executed regardless of whether an exception was raised or not.\n",
    "\n",
    "# Here's an example:\n",
    "\n",
    "try:\n",
    "    x = int(input(\"Please enter a number: \"))\n",
    "    y = 10 / x\n",
    "except ValueError:\n",
    "    print(\"Invalid input. Please enter a number.\")\n",
    "else:\n",
    "    print(\"The result is:\", y)\n",
    "finally:\n",
    "    print(\"This code is always executed.\")\n"
   ]
  },
  {
   "cell_type": "code",
   "execution_count": 19,
   "id": "6517f81c-e93b-4e93-b8d3-7002b4b6a6b2",
   "metadata": {},
   "outputs": [
    {
     "name": "stdin",
     "output_type": "stream",
     "text": [
      "Please enter your income:  10\n"
     ]
    },
    {
     "name": "stdout",
     "output_type": "stream",
     "text": [
      "Your tax is: 2.0\n"
     ]
    }
   ],
   "source": [
    "# c. raise:\n",
    "# In Python, you can use the raise statement to manually raise an exception. This is useful when you need to create a custom exception or when you want to raise an exception in response to a specific condition in your code.\n",
    "\n",
    "# Here's an example:\n",
    "\n",
    "def calculate_tax(income):\n",
    "    if income < 0:\n",
    "        raise ValueError(\"Income cannot be negative.\")\n",
    "    else:\n",
    "        tax = income * 0.2\n",
    "        return tax\n",
    "\n",
    "try:\n",
    "    income = int(input(\"Please enter your income: \"))\n",
    "    tax = calculate_tax(income)\n",
    "    print(\"Your tax is:\", tax)\n",
    "except ValueError as e:\n",
    "    print(e)\n"
   ]
  },
  {
   "cell_type": "code",
   "execution_count": 20,
   "id": "51f70c31-c075-4ff1-8497-eac15c74bb31",
   "metadata": {},
   "outputs": [],
   "source": [
    "# Q5. \n",
    "\n",
    "# What are Custom Exceptions in python? Why do we need Custom Exceptions? Explain with an example."
   ]
  },
  {
   "cell_type": "code",
   "execution_count": 22,
   "id": "f63e8d3c-844f-47a1-9417-a318283ea978",
   "metadata": {},
   "outputs": [
    {
     "name": "stdin",
     "output_type": "stream",
     "text": [
      "Please enter your age:  33\n"
     ]
    },
    {
     "name": "stdout",
     "output_type": "stream",
     "text": [
      "You are eligible to vote.\n"
     ]
    }
   ],
   "source": [
    "# A5\n",
    "\n",
    "# Custom exceptions, also known as user-defined exceptions, are exceptions that you create yourself in Python. They allow you to define your own exception types that can be raised in response to specific conditions in your code.\n",
    "\n",
    "# Custom exceptions are useful because they allow you to create more specific and descriptive error messages that make it easier to debug your code. They can also help you to organize your code and make it easier to understand.\n",
    "\n",
    "# Here's an example of how to create a custom exception in Python:\n",
    "\n",
    "\n",
    "class InvalidAgeError(Exception):\n",
    "    def __init__(self, message):\n",
    "        self.message = message\n",
    "\n",
    "        \n",
    "def check_age(age):\n",
    "    if age < 0:\n",
    "        raise InvalidAgeError(\"Age cannot be negative.\")\n",
    "    elif age < 18:\n",
    "        raise InvalidAgeError(\"You must be at least 18 years old.\")\n",
    "    else:\n",
    "        print(\"You are eligible to vote.\")\n",
    "\n",
    "try:\n",
    "    age = int(input(\"Please enter your age: \"))\n",
    "    check_age(age)\n",
    "except InvalidAgeError as e:\n",
    "    print(e.message)\n"
   ]
  },
  {
   "cell_type": "code",
   "execution_count": 23,
   "id": "09c50e70-f2a1-4dc3-b2d3-856598cb5e7a",
   "metadata": {},
   "outputs": [],
   "source": [
    "# Q6. \n",
    "\n",
    "# Create Custom exception class. Use this class to handle an exception."
   ]
  },
  {
   "cell_type": "code",
   "execution_count": 28,
   "id": "44a40a0f-1989-4979-9b6d-177f6441fb2d",
   "metadata": {},
   "outputs": [
    {
     "name": "stdin",
     "output_type": "stream",
     "text": [
      "Enter a number:  64\n"
     ]
    },
    {
     "name": "stdout",
     "output_type": "stream",
     "text": [
      "Square root of 64 is 8.0\n"
     ]
    }
   ],
   "source": [
    "# A6\n",
    "\n",
    "# Sure! Here's an example of how to create a custom exception class and use it to handle an exception:\n",
    "\n",
    "class NegativeNumberError(Exception):\n",
    "    def __init__(self, message):\n",
    "        super().__init__(message)\n",
    "\n",
    "def square_root(number):\n",
    "    if number < 0:\n",
    "        raise NegativeNumberError(\"Cannot calculate square root of a negative number.\")\n",
    "    else:\n",
    "        return number ** 0.5\n",
    "\n",
    "try:\n",
    "    num = int(input(\"Enter a number: \"))\n",
    "    result = square_root(num)\n",
    "    print(\"Square root of\", num, \"is\", result)\n",
    "except NegativeNumberError as e:\n",
    "    print(\"Error:\", e)\n"
   ]
  },
  {
   "cell_type": "code",
   "execution_count": null,
   "id": "c5a3457a-fd5f-41d0-bcd4-26b99d95de97",
   "metadata": {},
   "outputs": [],
   "source": []
  }
 ],
 "metadata": {
  "kernelspec": {
   "display_name": "Python 3 (ipykernel)",
   "language": "python",
   "name": "python3"
  },
  "language_info": {
   "codemirror_mode": {
    "name": "ipython",
    "version": 3
   },
   "file_extension": ".py",
   "mimetype": "text/x-python",
   "name": "python",
   "nbconvert_exporter": "python",
   "pygments_lexer": "ipython3",
   "version": "3.10.8"
  }
 },
 "nbformat": 4,
 "nbformat_minor": 5
}
