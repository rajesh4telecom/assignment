{
 "cells": [
  {
   "cell_type": "code",
   "execution_count": 1,
   "id": "8ef4079f-8344-4cf5-a3b7-05bffc3f59a2",
   "metadata": {},
   "outputs": [],
   "source": [
    "# Q1. Create a vehicle class with an init method having instance variables as name_of_vehicle, max_speed and average_of_vehicle."
   ]
  },
  {
   "cell_type": "code",
   "execution_count": 9,
   "id": "2b9c26e3-96c2-4d3d-b08e-eb571bf9ef36",
   "metadata": {},
   "outputs": [
    {
     "name": "stdout",
     "output_type": "stream",
     "text": [
      "sedan\n",
      "200\n",
      "30\n"
     ]
    }
   ],
   "source": [
    "# A1\n",
    "\n",
    "class Vehicle:\n",
    "    def __init__(self, name_of_vehicle , max_speed , average_of_vehicle) :\n",
    "        self.name_of_vehicle = name_of_vehicle\n",
    "        self.max_speed = max_speed\n",
    "        self.average_of_vehicle = average_of_vehicle\n",
    "\n",
    "car = Vehicle(\"sedan\", 200, 30)\n",
    "print(car.name_of_vehicle)\n",
    "print(car.max_speed)\n",
    "print(car.average_of_vehicle)\n"
   ]
  },
  {
   "cell_type": "code",
   "execution_count": 4,
   "id": "2f671979-7362-4330-a317-d0ffa1b92ccb",
   "metadata": {},
   "outputs": [],
   "source": [
    "# Q2. Create a child class car from the vehicle class created in Que 1, which will inherit the vehicle class.\n",
    "# Create a method named seating_capacity which takes capacity as an argument and returns the name of the vehicle and its seating capacity."
   ]
  },
  {
   "cell_type": "code",
   "execution_count": 12,
   "id": "209eac81-b00c-4041-853c-4e0d502f0828",
   "metadata": {},
   "outputs": [
    {
     "name": "stdout",
     "output_type": "stream",
     "text": [
      "sedan with seating capacity of 5\n"
     ]
    }
   ],
   "source": [
    "# A2\n",
    "\n",
    "class Car(Vehicle):\n",
    "    def seating_capacity(self, capacity):\n",
    "        return f\"{self.name_of_vehicle} with seating capacity of {capacity}\"\n",
    "\n",
    "sedan = Car(\"sedan\", 200, 30)\n",
    "print(sedan.seating_capacity(5))\n"
   ]
  },
  {
   "cell_type": "code",
   "execution_count": 19,
   "id": "94f00376-7a58-4758-b553-1d6b38490898",
   "metadata": {},
   "outputs": [],
   "source": [
    "# Q3 What is multiple inheritance? Write a python code to demonstrate multiple inheritance."
   ]
  },
  {
   "cell_type": "code",
   "execution_count": 25,
   "id": "a4282e3d-ec7c-4618-82c8-ace580810ad6",
   "metadata": {},
   "outputs": [
    {
     "name": "stdout",
     "output_type": "stream",
     "text": [
      "i am his father\n",
      "i am his mother\n"
     ]
    }
   ],
   "source": [
    "# A3\n",
    "\n",
    "# Multiple inheritance is a feature of object-oriented programming (OOP) languages, including Python, where a class can inherit attributes and methods from more than one parent class. This allows a class to reuse code from multiple parent classes and create new, more specialized classes.\n",
    "\n",
    "class father:\n",
    "    \n",
    "    def mr_father(self):\n",
    "        return \"i am his father\"\n",
    "    \n",
    "class mother:\n",
    "    \n",
    "    def mrs_mother(self):\n",
    "        return \"i am his mother\"\n",
    "    \n",
    "class clild(father , mother):\n",
    "    pass\n",
    "\n",
    "boy_child = clild()\n",
    "print(boy_child.mr_father())\n",
    "print(boy_child.mrs_mother())"
   ]
  },
  {
   "cell_type": "code",
   "execution_count": 26,
   "id": "e1e32482-11ed-4857-856d-f7496d78f574",
   "metadata": {},
   "outputs": [],
   "source": [
    "# Q4 What are getter and setter in python? Create a class and create a getter and a setter method in this class."
   ]
  },
  {
   "cell_type": "code",
   "execution_count": 28,
   "id": "7e793238-3f53-464a-bbcd-26e11cea4559",
   "metadata": {},
   "outputs": [
    {
     "name": "stdout",
     "output_type": "stream",
     "text": [
      "1000\n",
      "2000\n"
     ]
    }
   ],
   "source": [
    "# A4\n",
    "\n",
    "# Getter and setter methods are used to manage the access and modification of instance variables in an object-oriented programming language like Python. A getter method is used to retrieve the value of an instance variable, while a setter method is used to set the value of an instance variable.\n",
    "\n",
    "class bank:\n",
    "    def __init__(self, balance):\n",
    "        self._balance = balance\n",
    "        \n",
    "    def get_balance(self):\n",
    "        return self._balance\n",
    "    \n",
    "    def set_balance(self, balance):\n",
    "        self._balance = balance\n",
    "        \n",
    "deposit = bank(1000)\n",
    "print(deposit.get_balance())\n",
    "deposit.set_balance(2000)\n",
    "print(deposit.get_balance())"
   ]
  },
  {
   "cell_type": "code",
   "execution_count": 29,
   "id": "f7974240-24c4-447b-83fa-ef83ffe497b2",
   "metadata": {},
   "outputs": [],
   "source": [
    "# Q5. What is method overriding in python? Write a python code to demonstrate method overriding."
   ]
  },
  {
   "cell_type": "code",
   "execution_count": 31,
   "id": "66b6da60-3d5e-420d-a8e6-1c5a3d9115a1",
   "metadata": {},
   "outputs": [
    {
     "name": "stdout",
     "output_type": "stream",
     "text": [
      "this test is from parent\n",
      "this test is from child\n"
     ]
    }
   ],
   "source": [
    "# A5\n",
    "\n",
    "# Method overriding is a feature of object-oriented programming (OOP) that allows a subclass to provide a new implementation for a method that is already defined in its parent class. This new implementation can change or extend the behavior of the method, providing a more specialized implementation for the subclass.\n",
    "\n",
    "class parent:\n",
    "    def test_parent(self):\n",
    "        return \"this test is from parent\"\n",
    "    \n",
    "class child(parent):\n",
    "    def test_parent(self):\n",
    "        return \"this test is from child\"\n",
    "    \n",
    "p = parent()\n",
    "c = child()\n",
    "print(p.test_parent())\n",
    "print(c.test_parent())\n"
   ]
  },
  {
   "cell_type": "code",
   "execution_count": null,
   "id": "76ecfcd7-92c3-49ce-b821-d21ea4169ddc",
   "metadata": {},
   "outputs": [],
   "source": []
  }
 ],
 "metadata": {
  "kernelspec": {
   "display_name": "Python 3 (ipykernel)",
   "language": "python",
   "name": "python3"
  },
  "language_info": {
   "codemirror_mode": {
    "name": "ipython",
    "version": 3
   },
   "file_extension": ".py",
   "mimetype": "text/x-python",
   "name": "python",
   "nbconvert_exporter": "python",
   "pygments_lexer": "ipython3",
   "version": "3.10.8"
  }
 },
 "nbformat": 4,
 "nbformat_minor": 5
}
