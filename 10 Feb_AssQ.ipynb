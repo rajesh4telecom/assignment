{
 "cells": [
  {
   "cell_type": "code",
   "execution_count": 1,
   "id": "0b6fe43e-9703-411b-a5f4-b9a850c5a489",
   "metadata": {},
   "outputs": [],
   "source": [
    "# Q1 Which function is used to open a file? What are the different modes of opening a file? Explain each mode of file opening."
   ]
  },
  {
   "cell_type": "code",
   "execution_count": 3,
   "id": "5d8ed99d-78ef-4b15-a972-7e54c4094a1d",
   "metadata": {},
   "outputs": [],
   "source": [
    "#A1\n",
    "\n",
    "# The open function is used to open a file in Python. The basic syntax for opening a file is:\n",
    "\n",
    "\"\"\"file_object = open(\"file_name\", \"mode\")\"\"\"\n",
    "\n",
    "# where file_name is the name of the file and mode is the mode in which the file is opened.\n",
    "\n",
    "# The different modes of opening a file are:\n",
    "\n",
    "# \"r\" (Read Only) : Opens the file in read-only mode. The file pointer is placed at the beginning of the file. This is the default mode in which a file is opened.\n",
    "\n",
    "# \"w\" (Write Only) : Opens the file in write-only mode. The file is created if it does not exist. If the file exists, its previous contents are deleted. The file pointer is placed at the beginning of the file.\n",
    "\n",
    "# \"a\" (Append Only) : Opens the file in append mode. The file is created if it does not exist. The file pointer is placed at the end of the file.\n",
    "\n",
    "# \"x\" (Exclusive Creation) : Opens the file in exclusive creation mode. The file is created only if it does not exist. If the file already exists, the FileExistsError is raised.\n",
    "\n",
    "# \"b\" (Binary Mode) : Opens the file in binary mode. This is used when working with binary files, such as images or audio files.\n",
    "\n",
    "# \"t\" (Text Mode) : Opens the file in text mode. This is the default mode for opening text files.\n",
    "\n",
    "# You can also combine these modes to open a file in a specific mode. For example, \"rb\" opens the file in binary mode for reading, and \"w+\" opens the file in write and read mode, allowing you to read and write to the file.\n",
    "\n"
   ]
  },
  {
   "cell_type": "code",
   "execution_count": 4,
   "id": "1f36eaed-a18a-43a1-af55-99ad73557a8c",
   "metadata": {},
   "outputs": [],
   "source": [
    "# Q2 Why close() function is used? Why is it important to close a file?"
   ]
  },
  {
   "cell_type": "code",
   "execution_count": 5,
   "id": "94841f8e-05a4-449d-ac43-2464f0373ea1",
   "metadata": {},
   "outputs": [],
   "source": [
    "#A2\n",
    "\n",
    "# The close function is used to close a file in Python. It is important to close a file after you are done working with it for several reasons:\n",
    "\n",
    "# Releasing system resources: When a file is opened, the operating system reserves a certain amount of system resources for it. If you don't close the file, those resources will remain occupied, even if you are no longer using the file. This can lead to resource exhaustion and potential performance issues.\n",
    "\n",
    "# Ensuring data integrity: When you write to a file, the data is not immediately written to the disk. Instead, it is buffered in memory, and the operating system writes it to the disk when it is convenient. If you don't close the file, the operating system might not flush the buffer to disk, and your data may be lost if the program terminates abnormally.\n",
    "\n",
    "# Cleaning up open file handles: When a file is opened, a file handle is created, which is a representation of the file in memory. If you have a large number of files open and don't close them, you can run out of file handles, which will prevent you from opening more files.\n",
    "\n",
    "# Therefore, it is good practice to close a file as soon as you are done working with it, to avoid these potential problems. You can either use the close function explicitly, or you can use the with statement, which will automatically close the file for you, even if an exception is raised while working with the file.\n"
   ]
  },
  {
   "cell_type": "code",
   "execution_count": 6,
   "id": "2bbaf3a0-fdfe-47e6-b3f1-4da50a55d487",
   "metadata": {},
   "outputs": [],
   "source": [
    "# Q3. Write a python program to create a text file. Write ‘I want to become a Data Scientist’ in that file. Then close the file. Open this file and read the content of the file."
   ]
  },
  {
   "cell_type": "code",
   "execution_count": 7,
   "id": "03938fef-1805-4b94-9fbf-c724470cafde",
   "metadata": {},
   "outputs": [
    {
     "name": "stdout",
     "output_type": "stream",
     "text": [
      "I want to become a Data Scientist\n"
     ]
    }
   ],
   "source": [
    "#A3\n",
    "\n",
    "# Here is a python program to create a text file, write content to it, close the file, and read the content of the file:\n",
    "\n",
    "# Open the file in write mode\n",
    "file = open(\"sample.txt\", \"w\")\n",
    "\n",
    "# Write to the file\n",
    "file.write(\"I want to become a Data Scientist\")\n",
    "\n",
    "# Close the file\n",
    "file.close()\n",
    "\n",
    "# Open the file in read mode\n",
    "file = open(\"sample.txt\", \"r\")\n",
    "\n",
    "# Read the content of the file\n",
    "content = file.read()\n",
    "\n",
    "# Print the content\n",
    "print(content)\n",
    "\n",
    "# Close the file\n",
    "file.close()\n"
   ]
  },
  {
   "cell_type": "code",
   "execution_count": 8,
   "id": "aca91e75-6f90-4212-a673-7cddc045b47d",
   "metadata": {},
   "outputs": [],
   "source": [
    "# Q4. Explain the following with python code: read(), readline() and readlines()."
   ]
  },
  {
   "cell_type": "code",
   "execution_count": 9,
   "id": "eef973a0-42c3-4354-b55b-d6499275ee22",
   "metadata": {},
   "outputs": [
    {
     "name": "stdout",
     "output_type": "stream",
     "text": [
      "I want to become a Data Scientist\n"
     ]
    }
   ],
   "source": [
    "#A4\n",
    "\n",
    "# In Python, there are three methods to read data from a file: read(), readline(), and readlines().\n",
    "\n",
    "# read() method: The read() method is used to read the entire content of a file. It returns the entire content of the file as a single string.\n",
    "\n",
    "# Open the file in read mode\n",
    "file = open(\"sample.txt\", \"r\")\n",
    "\n",
    "# Read the entire content of the file\n",
    "content = file.read()\n",
    "\n",
    "# Print the content\n",
    "print(content)\n",
    "\n",
    "# Close the file\n",
    "file.close()\n",
    "\n"
   ]
  },
  {
   "cell_type": "code",
   "execution_count": 10,
   "id": "5fe2c440-5b86-43a9-b068-9dab0922b653",
   "metadata": {},
   "outputs": [
    {
     "name": "stdout",
     "output_type": "stream",
     "text": [
      "I want to become a Data Scientist\n",
      "\n"
     ]
    }
   ],
   "source": [
    "# readline() method: The readline() method is used to read a single line from the file. It returns the next line of the file each time it is called.\n",
    "\n",
    "# Open the file in read mode\n",
    "file = open(\"sample.txt\", \"r\")\n",
    "\n",
    "# Read the first line of the file\n",
    "line = file.readline()\n",
    "\n",
    "# Print the line\n",
    "print(line)\n",
    "\n",
    "# Read the second line of the file\n",
    "line = file.readline()\n",
    "\n",
    "# Print the line\n",
    "print(line)\n",
    "\n",
    "# Close the file\n",
    "file.close()\n"
   ]
  },
  {
   "cell_type": "code",
   "execution_count": 11,
   "id": "388aec3a-2d5d-4cfb-adde-ab6cc05357d3",
   "metadata": {},
   "outputs": [
    {
     "name": "stdout",
     "output_type": "stream",
     "text": [
      "I want to become a Data Scientist\n"
     ]
    }
   ],
   "source": [
    "# readlines() method: The readlines() method is used to read all the lines of the file and return them as a list of strings.\n",
    "\n",
    "# Open the file in read mode\n",
    "file = open(\"sample.txt\", \"r\")\n",
    "\n",
    "# Read all the lines of the file\n",
    "lines = file.readlines()\n",
    "\n",
    "# Print the lines\n",
    "for line in lines:\n",
    "    print(line)\n",
    "\n",
    "# Close the file\n",
    "file.close()\n"
   ]
  },
  {
   "cell_type": "code",
   "execution_count": 12,
   "id": "94f77c86-946a-485a-83a1-f2f9d04bcb91",
   "metadata": {},
   "outputs": [],
   "source": [
    "# In each of these examples, the file is first opened in read mode using open(\"sample.txt\", \"r\"). The content is then read using one of the methods, read(), readline(), or readlines(), and stored in a variable. Finally, the content is printed to the console, and the file is closed using the close method."
   ]
  },
  {
   "cell_type": "code",
   "execution_count": 13,
   "id": "c4b1fdc0-23ff-46f0-acf2-80554afb3ad6",
   "metadata": {},
   "outputs": [],
   "source": [
    "# Q5. Explain why with statement is used with open(). What is the advantage of using with statement and open() together?"
   ]
  },
  {
   "cell_type": "code",
   "execution_count": 14,
   "id": "a34028e7-816a-4b6e-baf6-7d9aa77071de",
   "metadata": {},
   "outputs": [
    {
     "name": "stdout",
     "output_type": "stream",
     "text": [
      "I want to become a Data Scientist\n"
     ]
    }
   ],
   "source": [
    "#A5\n",
    "\n",
    "# The with statement is used in Python to wrap the execution of a block of code with methods defined by a context manager. The open function is one such context manager.\n",
    "\n",
    "# The with statement provides a convenient way to handle the opening and closing of a file automatically, without the need for explicit calls to the open and close functions. When the with statement is used, the file is automatically closed after the block of code is executed, even if an exception is raised.\n",
    "\n",
    "# Here is an example of using the with statement with the open function:\n",
    "\n",
    "# Open the file using the with statement\n",
    "with open(\"sample.txt\", \"r\") as file:\n",
    "    # Read the entire content of the file\n",
    "    content = file.read()\n",
    "\n",
    "    # Print the content\n",
    "    print(content)\n",
    "\n",
    "# The file is automatically closed after the block of code is executed\n"
   ]
  },
  {
   "cell_type": "code",
   "execution_count": 15,
   "id": "999c0814-58ab-4c49-bef9-a98486f3c32c",
   "metadata": {},
   "outputs": [],
   "source": [
    "# The advantage of using the with statement and open together is that it ensures that the file is always properly closed, even if an error occurs while reading or writing to the file. This helps prevent data corruption and other issues that can occur when a file is not properly closed.\n",
    "\n",
    "# Another advantage is that the code is more readable and easier to maintain, since there is no need to worry about explicitly closing the file. The with statement takes care of it for you."
   ]
  },
  {
   "cell_type": "code",
   "execution_count": 16,
   "id": "9bca33f8-b84c-4d50-93b8-59f91de4e44a",
   "metadata": {},
   "outputs": [],
   "source": [
    "# Q6. Explain the write() and writelines() functions. Give a suitable example."
   ]
  },
  {
   "cell_type": "code",
   "execution_count": 17,
   "id": "0b6fda5c-649d-465f-ba37-4bef5b5861c2",
   "metadata": {},
   "outputs": [],
   "source": [
    "#A6\n",
    "\n",
    "# In Python, the write() and writelines() functions are used to write data to a file.\n",
    "\n",
    "# write() function: The write() function is used to write a single string to a file. The string is specified as an argument to the write function.\n",
    "\n",
    "# Open the file in write mode\n",
    "file = open(\"sample.txt\", \"w\")\n",
    "\n",
    "# Write a string to the file\n",
    "file.write(\"I want to become a Data Scientist\")\n",
    "\n",
    "# Close the file\n",
    "file.close()\n"
   ]
  },
  {
   "cell_type": "code",
   "execution_count": 18,
   "id": "5c99d430-7d2c-4216-a89e-dea5c3cbbc72",
   "metadata": {},
   "outputs": [],
   "source": [
    "# writelines() function: The writelines() function is used to write a list of strings to a file. The list of strings is specified as an argument to the writelines function.\n",
    "\n",
    "# Open the file in write mode\n",
    "file = open(\"sample.txt\", \"w\")\n",
    "\n",
    "# Write a list of strings to the file\n",
    "file.writelines([\"I want to become a Data Scientist\\n\", \"Data Science is my passion\\n\"])\n",
    "\n",
    "# Close the file\n",
    "file.close()\n"
   ]
  },
  {
   "cell_type": "code",
   "execution_count": null,
   "id": "51e3b8fe-35b6-43df-aad3-a5635e66c9a1",
   "metadata": {},
   "outputs": [],
   "source": []
  }
 ],
 "metadata": {
  "kernelspec": {
   "display_name": "Python 3 (ipykernel)",
   "language": "python",
   "name": "python3"
  },
  "language_info": {
   "codemirror_mode": {
    "name": "ipython",
    "version": 3
   },
   "file_extension": ".py",
   "mimetype": "text/x-python",
   "name": "python",
   "nbconvert_exporter": "python",
   "pygments_lexer": "ipython3",
   "version": "3.10.8"
  }
 },
 "nbformat": 4,
 "nbformat_minor": 5
}
